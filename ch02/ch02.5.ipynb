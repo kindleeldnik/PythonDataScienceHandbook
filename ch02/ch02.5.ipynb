{
 "metadata": {
  "language_info": {
   "codemirror_mode": {
    "name": "ipython",
    "version": 3
   },
   "file_extension": ".py",
   "mimetype": "text/x-python",
   "name": "python",
   "nbconvert_exporter": "python",
   "pygments_lexer": "ipython3",
   "version": "3.6.6-final"
  },
  "orig_nbformat": 2,
  "kernelspec": {
   "name": "python_defaultSpec_1599188553396",
   "display_name": "Python 3.6.6 64-bit ('base': conda)"
  }
 },
 "nbformat": 4,
 "nbformat_minor": 2,
 "cells": [
  {
   "cell_type": "code",
   "execution_count": 2,
   "metadata": {},
   "outputs": [],
   "source": [
    "import numpy as np"
   ]
  },
  {
   "cell_type": "code",
   "execution_count": 3,
   "metadata": {},
   "outputs": [
    {
     "output_type": "execute_result",
     "data": {
      "text/plain": "array([5, 6, 7])"
     },
     "metadata": {},
     "execution_count": 3
    }
   ],
   "source": [
    "a = np.array([0, 1, 2])\n",
    "b = np.array([5, 5, 5])\n",
    "a + b"
   ]
  },
  {
   "cell_type": "code",
   "execution_count": 4,
   "metadata": {},
   "outputs": [
    {
     "output_type": "execute_result",
     "data": {
      "text/plain": "array([5, 6, 7])"
     },
     "metadata": {},
     "execution_count": 4
    }
   ],
   "source": [
    "a + 5"
   ]
  },
  {
   "cell_type": "code",
   "execution_count": 5,
   "metadata": {},
   "outputs": [
    {
     "output_type": "execute_result",
     "data": {
      "text/plain": "array([[ 1.,  1.,  1.],\n       [ 1.,  1.,  1.],\n       [ 1.,  1.,  1.]])"
     },
     "metadata": {},
     "execution_count": 5
    }
   ],
   "source": [
    "M = np.ones((3, 3))\n",
    "M"
   ]
  },
  {
   "cell_type": "code",
   "execution_count": 8,
   "metadata": {},
   "outputs": [
    {
     "output_type": "execute_result",
     "data": {
      "text/plain": "array([[ 1.,  2.,  3.],\n       [ 1.,  2.,  3.],\n       [ 1.,  2.,  3.]])"
     },
     "metadata": {},
     "execution_count": 8
    }
   ],
   "source": [
    "M + a"
   ]
  },
  {
   "cell_type": "code",
   "execution_count": 11,
   "metadata": {
    "tags": []
   },
   "outputs": [
    {
     "output_type": "stream",
     "name": "stdout",
     "text": "[0 1 2]\n[[0]\n [1]\n [2]]\n"
    }
   ],
   "source": [
    " a = np.arange(3)\n",
    " b = np.arange(3)[:, np.newaxis]\n",
    "\n",
    " print(a)\n",
    " print(b)"
   ]
  },
  {
   "cell_type": "code",
   "execution_count": 12,
   "metadata": {},
   "outputs": [
    {
     "output_type": "execute_result",
     "data": {
      "text/plain": "array([[0, 1, 2],\n       [1, 2, 3],\n       [2, 3, 4]])"
     },
     "metadata": {},
     "execution_count": 12
    }
   ],
   "source": [
    "a + b"
   ]
  },
  {
   "cell_type": "code",
   "execution_count": 15,
   "metadata": {
    "tags": []
   },
   "outputs": [
    {
     "output_type": "stream",
     "name": "stdout",
     "text": "(2, 3)\n(3,)\n[[ 1.  1.  1.]\n [ 1.  1.  1.]]\n[0 1 2]\n"
    }
   ],
   "source": [
    "M = np.ones((2, 3))\n",
    "a = np.arange(3)\n",
    "print(M.shape)\n",
    "print(a.shape)\n",
    "print(M)\n",
    "print(a)"
   ]
  },
  {
   "cell_type": "code",
   "execution_count": 16,
   "metadata": {},
   "outputs": [
    {
     "output_type": "execute_result",
     "data": {
      "text/plain": "array([[ 1.,  2.,  3.],\n       [ 1.,  2.,  3.]])"
     },
     "metadata": {},
     "execution_count": 16
    }
   ],
   "source": [
    "M + a"
   ]
  },
  {
   "cell_type": "code",
   "execution_count": 18,
   "metadata": {
    "tags": []
   },
   "outputs": [
    {
     "output_type": "stream",
     "name": "stdout",
     "text": "[[0]\n [1]\n [2]]\n[0 1 2]\n(3, 1)\n(3,)\n"
    }
   ],
   "source": [
    "a = np.arange(3).reshape((3, 1))\n",
    "b = np.arange(3)\n",
    "print(a)\n",
    "print(b)\n",
    "print(a.shape)\n",
    "print(b.shape)"
   ]
  },
  {
   "cell_type": "code",
   "execution_count": 19,
   "metadata": {},
   "outputs": [
    {
     "output_type": "execute_result",
     "data": {
      "text/plain": "array([[0, 1, 2],\n       [1, 2, 3],\n       [2, 3, 4]])"
     },
     "metadata": {},
     "execution_count": 19
    }
   ],
   "source": [
    "a + b"
   ]
  },
  {
   "cell_type": "code",
   "execution_count": 21,
   "metadata": {
    "tags": []
   },
   "outputs": [
    {
     "output_type": "stream",
     "name": "stdout",
     "text": "(3, 2)\n(3,)\n[[ 1.  1.]\n [ 1.  1.]\n [ 1.  1.]]\n[0 1 2]\n"
    }
   ],
   "source": [
    "M = np.ones((3, 2))\n",
    "a = np.arange(3)\n",
    "print(M.shape)\n",
    "print(a.shape)\n",
    "print(M)\n",
    "print(a)"
   ]
  },
  {
   "cell_type": "code",
   "execution_count": 22,
   "metadata": {},
   "outputs": [
    {
     "output_type": "error",
     "ename": "ValueError",
     "evalue": "operands could not be broadcast together with shapes (3,2) (3,) ",
     "traceback": [
      "\u001b[0;31m---------------------------------------------------------------------------\u001b[0m",
      "\u001b[0;31mValueError\u001b[0m                                Traceback (most recent call last)",
      "\u001b[0;32m<ipython-input-22-8cac1d547906>\u001b[0m in \u001b[0;36m<module>\u001b[0;34m()\u001b[0m\n\u001b[0;32m----> 1\u001b[0;31m \u001b[0mM\u001b[0m \u001b[0;34m+\u001b[0m \u001b[0ma\u001b[0m\u001b[0;34m\u001b[0m\u001b[0m\n\u001b[0m",
      "\u001b[0;31mValueError\u001b[0m: operands could not be broadcast together with shapes (3,2) (3,) "
     ]
    }
   ],
   "source": [
    "M + a"
   ]
  },
  {
   "cell_type": "code",
   "execution_count": 25,
   "metadata": {},
   "outputs": [
    {
     "output_type": "execute_result",
     "data": {
      "text/plain": "(3, 1)"
     },
     "metadata": {},
     "execution_count": 25
    }
   ],
   "source": [
    "a[:, np.newaxis].shape"
   ]
  },
  {
   "cell_type": "code",
   "execution_count": 27,
   "metadata": {},
   "outputs": [
    {
     "output_type": "execute_result",
     "data": {
      "text/plain": "array([[ 1.,  1.],\n       [ 2.,  2.],\n       [ 3.,  3.]])"
     },
     "metadata": {},
     "execution_count": 27
    }
   ],
   "source": [
    "M + a[:, np.newaxis]"
   ]
  },
  {
   "cell_type": "code",
   "execution_count": 29,
   "metadata": {},
   "outputs": [
    {
     "output_type": "execute_result",
     "data": {
      "text/plain": "array([[ 1.31326169,  1.31326169],\n       [ 1.69314718,  1.69314718],\n       [ 2.31326169,  2.31326169]])"
     },
     "metadata": {},
     "execution_count": 29
    }
   ],
   "source": [
    "np.logaddexp(M , a[:, np.newaxis])"
   ]
  },
  {
   "cell_type": "code",
   "execution_count": 31,
   "metadata": {
    "tags": []
   },
   "outputs": [
    {
     "output_type": "stream",
     "name": "stdout",
     "text": "[[ 0.72020761  0.12760334  0.85437175]\n [ 0.51028278  0.92868367  0.7666915 ]\n [ 0.15849765  0.09480507  0.48473478]\n [ 0.0913278   0.82523291  0.64599955]\n [ 0.20789138  0.77845502  0.34298797]\n [ 0.13874473  0.27667101  0.67596658]\n [ 0.75222872  0.03819399  0.32477926]\n [ 0.0981147   0.94337787  0.99830746]\n [ 0.71578399  0.63484126  0.22191797]\n [ 0.82780582  0.30983702  0.16662204]]\n"
    }
   ],
   "source": [
    "X = np.random.random((10, 3))\n",
    "print(X)"
   ]
  },
  {
   "cell_type": "code",
   "execution_count": 38,
   "metadata": {
    "tags": []
   },
   "outputs": [
    {
     "output_type": "stream",
     "name": "stdout",
     "text": "[ 0.42208852  0.49577012  0.54823789]\n(3,)\n"
    }
   ],
   "source": [
    "Xmean = X.mean(0)\n",
    "print(Xmean)\n",
    "print(Xmean.shape)"
   ]
  },
  {
   "cell_type": "code",
   "execution_count": 39,
   "metadata": {},
   "outputs": [],
   "source": [
    "X_centered = X - Xmean"
   ]
  },
  {
   "cell_type": "code",
   "execution_count": 40,
   "metadata": {},
   "outputs": [
    {
     "output_type": "execute_result",
     "data": {
      "text/plain": "array([[ 0.29811909, -0.36816678,  0.30613387],\n       [ 0.08819426,  0.43291355,  0.21845361],\n       [-0.26359087, -0.40096505, -0.0635031 ],\n       [-0.33076072,  0.32946279,  0.09776166],\n       [-0.21419714,  0.28268491, -0.20524991],\n       [-0.28334379, -0.2190991 ,  0.12772869],\n       [ 0.3301402 , -0.45757612, -0.22345863],\n       [-0.32397382,  0.44760775,  0.45006957],\n       [ 0.29369547,  0.13907114, -0.32631992],\n       [ 0.40571731, -0.18593309, -0.38161585]])"
     },
     "metadata": {},
     "execution_count": 40
    }
   ],
   "source": [
    "X_centered"
   ]
  },
  {
   "cell_type": "code",
   "execution_count": 41,
   "metadata": {},
   "outputs": [
    {
     "output_type": "execute_result",
     "data": {
      "text/plain": "array([ -2.22044605e-17,   2.22044605e-17,   1.11022302e-17])"
     },
     "metadata": {},
     "execution_count": 41
    }
   ],
   "source": [
    "X_centered.mean(0)"
   ]
  },
  {
   "cell_type": "code",
   "execution_count": 44,
   "metadata": {},
   "outputs": [],
   "source": [
    "x = np.linspace(0, 5, 50)\n",
    "y = np.linspace(0, 5, 50)[:, np.newaxis]\n",
    "z = np.sin(x) ** 10 + np.cos(10 + y * x)* np.cos(x)\n"
   ]
  },
  {
   "cell_type": "code",
   "execution_count": 45,
   "metadata": {},
   "outputs": [],
   "source": [
    "%matplotlib inline\n",
    "import matplotlib.pyplot as plt"
   ]
  },
  {
   "cell_type": "code",
   "execution_count": 46,
   "metadata": {},
   "outputs": [
    {
     "output_type": "display_data",
     "data": {
      "text/plain": "<Figure size 432x288 with 2 Axes>",
      "image/svg+xml": "<?xml version=\"1.0\" encoding=\"utf-8\" standalone=\"no\"?>\n<!DOCTYPE svg PUBLIC \"-//W3C//DTD SVG 1.1//EN\"\n  \"http://www.w3.org/Graphics/SVG/1.1/DTD/svg11.dtd\">\n<!-- Created with matplotlib (http://matplotlib.org/) -->\n<svg height=\"252.317344pt\" version=\"1.1\" viewBox=\"0 0 310.459812 252.317344\" width=\"310.459812pt\" xmlns=\"http://www.w3.org/2000/svg\" xmlns:xlink=\"http://www.w3.org/1999/xlink\">\n <defs>\n  <style type=\"text/css\">\n*{stroke-linecap:butt;stroke-linejoin:round;}\n  </style>\n </defs>\n <g id=\"figure_1\">\n  <g id=\"patch_1\">\n   <path d=\"M 0 252.317344 \nL 310.459812 252.317344 \nL 310.459812 0 \nL 0 0 \nz\n\" style=\"fill:none;\"/>\n  </g>\n  <g id=\"axes_1\">\n   <g id=\"patch_2\">\n    <path d=\"M 20.5625 228.439219 \nL 238.0025 228.439219 \nL 238.0025 10.999219 \nL 20.5625 10.999219 \nz\n\" style=\"fill:#ffffff;\"/>\n   </g>\n   <g clip-path=\"url(#p5f9efb8a54)\">\n    <image height=\"218\" id=\"image949ae7f493\" transform=\"scale(1 -1)translate(0 -218)\" width=\"218\" x=\"20.5625\" xlink:href=\"data:image/png;base64,\niVBORw0KGgoAAAANSUhEUgAAANoAAADaCAYAAADAHVzbAAAABHNCSVQICAgIfAhkiAAAIABJREFUeJztndmTHFd23k9utVdvaKCBbjTQANkEZjjUzIRkhzSaF9sR0ihC/4v/OdmhxWFHWA5LipFDMxxSQ6xsogH0AqC3WrOyMtMP1AO+75xgFSHGfTq/t1udW93M21nfWaNf7f7XWhaRxDiOcVxnqdqlbmQ4bultyjZuU/Rxm3wtUfuMb+C5x9t4+cneUO3zH3e/gfFfXvstjH/ReqX22UraeG11CeNv5nO1z5NiE8ZP85tqm7dFD8Z5hd85jSu1TyeewXg1HcO4H0/VPt04p2PguBHh9xERySL9nZiyxvkvBO9RUev7PKqaMB6ULRhflh21D2/D82TRS/A73m6cwXi/eaz22U/xedmk+y6i7/3jAp+5vxv9WO3z18efwjhWWziO84PjC81xAuALzXECoH/4RpHeij6rU9JOPBYRSXENV5nepsp4GzxPlepr4Z/qVYq/lxuJ1jjNGH9jsz4xrl6R16hfxoYWuSCtcTbvqm3ezPowHs0bC8+d0vXz92knqOFERDL6jqz9EtHzxJTG/+GqxnvC2snSUpMStfh0wVhEJJ/jceakDdNIX/9qcwLjYQe1YWLssxKhrmvRWEQki/DcHZr/6+lA7XOrcwVjf6M5TgB8oTlOAHyhOU4AfKE5TgC0co0NY0i8wGGd6vVak/HD2kYZP2hsaGRhG0RNxpDENIagIWMZx2xFxoJC8DyjWhsxzkp0Rr+Z9dQ2R5MVGA9nKNiLarEBIo7wWow7puCoBD6miEhJ5y4rvc28TGgb2qfU11/OyehF+1RzfZ6azs02ujjT97ndQUPG5Yp2PjNrCTv/tVN7M8GT92n+d7N3ap+HPTyOv9EcJwC+0BwnAL7QHCcAiyM1RaRm3UZBxnViOKOVw9rSaPT7Xmk2fS3sD60z/L2cJTpYthkXuI2Qw9pw0pc1HndKY3ZOi4i8LdAZfUJ6TETkdIS6bTghjTbTt6QqKWCg+u6xiIjQPgvHIhLRZ5Ghnfgz8t2KEassMe3DMtrwIytqesTmLR0LP1zBB+abAndqp/gciIjcalzCeDs9V9ts0PPTj/Ee7aV4DBGRUfsFjP2N5jgB8IXmOAHwheY4AVguqJj9ZuxXs/xoSqMZAcKN7/aj8d+//Yx+m5MfrZVpH1k7wd/YVtIjU5COG5HvZ1BpH81ZgUHEbyc6qPhiQAmlA9Ro0VTPZZyTxiHNE2npIcmM9Rb/Xe9DUkTiQusgtQ0d15raqEIRFi1ONRaKIZZ5E7/PvKufjXyKj/M0xrl+3dWa+ai/CuNBu6W2KQUnayVCH+pmor/QXoZJp/5Gc5wA+EJznAD4QnOcAPhCc5wAfFCGtcqeNgOGFzus2UFdUpwuj0VEKvosouDSVqqNIS1S8C2yHlj/bSpyUOfkMTUd1jkaPy7GRkWlKzR+pBdUBWuk5z+hIlfphP6eazGeTPGzlLYx98mr7xyLiMQzMmyUNK4MSwd/RgEQKiBCRKomzve8g+OpUSGtpkCKoofj0VQ/UFdzNH5MayNKgkgo47plLKM+ZWr7G81xAuALzXEC4AvNcQKwnEZTQcRcFcvQaA3SaIbzuWywRlsiqJiCiOMGVYQyAke50i9XiEqM1MlSJXrixZwbFa7Oc9Rtk7HWBMkVaovGBZ67gcWTvr3eIQVOj0l/jbWWSsdUBWtMunSi5yma4mdRbni15+SRLmlcGxqNg86palrd1PNUUwWriKodz1uGY58ul4OkOeH0h4IrGYuIjEnT+xvNcQLgC81xAuALzXEC4AvNcQKwVIa1KgnOxhGzdPd3Gzq+/Yz24THq33/bBsV2M0Mh2km1gOeWRS0yhsSGAahQGdZoDLmca2f0IMcLrkZ6eltDnDtK8JXmhVHF6xI/awzQaJEM9XeOh/idozF6vesJeb1FpCbjRzUzjCGWQ/r98xgtvCJq4RW10EkcGRn6fBZ2apvl4tXzROXijcwObvXEwQwWeY3bnFX6uM+KGzD2N5rjBMAXmuMEwBea4wRA/aC2AjwXOajNClfsjDYzrHFckiYrOZtaROoG6RX63d1dQqNlEbcw0hphRhqN28OO+GJFZJTjF4on+rjpCMeNAWWIX2jnZ+OCNNkl6q14iNV2RUTqIZ6ompBGy3V7otpoF6wgPRs18DtHqaHR2qhn6x469que1rvzNZzf6QbqvHxNP08zSqCu+vh9Nrp6nm40sOXSWqy1Kwc0DCp8xl4bev2LyS6M/Y3mOAHwheY4AfCF5jgB+MAqWIt9GouSOkVESqpstMgPIiISNVFftRtURTalLEkR6VK0aWuJMkzszWI/2tBoiZvnOJ3JVM8LJ21mFBCcDbVOSgakyUZ4kHq02Ce2jP6KMtJblk+sScG+HdJfXa1XSurqMu/jeWar+jx5H/Uta7J8Q+0i0y38jv1N1Kn3+7rry93GWxhvcGSyiMQRJ/3iPTsoNtU+X4228Bj6ch3H+aHxheY4AfCF5jgB8IXmOAFYyhiy2GFtOKMpO5oNHdZnZRONFFXTqNREGdXdBopXDhIVEemyw5r+Hhv/b0o69ZS+0NgwhpTUJigzYnK5+hRXq4pz7bCOCvqMs5wN2HGsHMmJ/s5s6Kjb2ilfdzEguOhT26kVnRY/W8F5mfWj7xyLiBTUlbjo4zyVa9q4072GDumPN9DQ8WnvtdpnL8Nt1rjcvWiHNWdPH8+xrLiIyKvRGoz9jeY4AfCF5jgB8IXmOAH4MId18iEO6++f+Fk3dRJk1qAg4myxRtNBxdQGyfjOfOaixqmacY9fEanmOE92a1rUGhGLQSuxkhNvm5RIaegttQ85n+u21pjzLn5W9BfrrXyFqgOvGMG+2HFY5r2axlpvRR3Uoc0u3ufrPR0gvNu/gPGP+scwftDSGm2bIgh6sVFdmqpckayWYalbPY0LnDt/ozlOAHyhOU4AfKE5TgCWKs5T089u1mRmoZQl/GjsN+Nx1NT+ohYFEXMxnj63XhGRbsSVihf/fynJd1KQ72RW6qROqSgpUktM3VaWpq7O9HGrNk0maTRJjPlvcDcWvNVFX9/6WR/nJV9dnFxZrJLeWjGCovt0z7p4j/otrav7DfxspYH7rDe0RttuYqWje81TGN9MdBno1Zh8n5Gef6sS8SKyGG++v9EcJwC+0BwnAL7QHCcAvtAcJwBaEZtVsBY5rPWBOdDYbMG0wEGdNbQI7aiMahTN7JwW0ZWJM+GWOssYR2gO2EIkosvrGtR0Kq4WNu9aWc3U5oirQDf19Rdd/IwDd01DBxk2ijXDCLBK87+CDt/NHpX5EpGtNlaa2iBDRjc17hm1Q+ZWW81YVxTux2gwWUvwPFz9TES3UC5rw4JF8HFWE53hvtkewtjfaI4TAF9ojhMAX2iOE4Alg4q5m8z37+xhFPbViZ0N1mhGch8FEfPve07yFNG/qbPI8J4TJWmwisWVBTufDZ82B1IXbUqiNeaS5SC3lS10l18V3Juvsf7Sc5uu4dxurQ/UNhy4u9s+h/FOE/8uIrKRol5ZpmMLVx3jStEcQCCidfSgwgDhi0oH/67FeG1ZbWTrEt0I5247O1fb7PffwNjfaI4TAF9ojhMAX2iOE4DlivMsqExs+shUULF2MlWkyRIKIuYAYhGRboYajBM9bT8aFcAhMVUt4wAjIqvacUzFhTK9TdmiwjTktokqPf+cNDunwjWzFX2eYp26mq7jvNw09Ne9lTMY7/dO9TZN1B7bKeqTlVgHdbMPbEpJtO9K+kIiMpqjJrucYweay1InaFYkZlcpqZN1t4hIQ2ieuJS0iPQp8LhP62E30xWQR5RY6280xwmALzTHCYAvNMcJgC80xwmAbq27RKViDiK2gopLNoYYhoFFDup2pp2qnZSCWimj2nKGGraa701MTu801sGncYafWVnlpOmVYcl0cpPun63ieep1/Z1X1zG49946CvaH/RO1z8M2Vonao5ZGIiI3EzwuG5q4qJeIyEAZP9DQ8bpYV/t8nV+H8asJVv69mBnteCt8b6w10bAx6GiHdULX34lfqW26dO87lIW9a1Rek+YRDP2N5jgB8IXmOAHwheY4ATASP/VG7LBWms3oJlOzRjM6w8QLHNS9htEZRiV6YhBoI9LJilyJOKEqWNUSVY4Sql3ciI1qTykeZ97WOq4oqZoxndrUdX1KXF0j5/OGru70YA2dzZ/2UHs8JA0hInKXnM/XEn3PMnL2Tylx8qLWj9RBgX1wfz/dgfFXo5tqn6+vrsH47RAjp2f54gJu3Q7O03RNq3VO2rScz9ukS1coKD02OtCMazy3v9EcJwC+0BwnAL7QHCcASwYV47giX4/xs1xKCiKuDT8aF99ZVIVYRAcRc5GWLNLa6UP+m7B/hQNjW4k+T7OJnxUdrf1UgxlOFm0bBYlWUUfcXsOKvA9WtU/sp91DGD9soo9sN9WVfvukXWOjovNlhdd3SI7Br/Jttc/vxrdh/PsL1GSH5+gjExGZnKOfLB5SQaXCqo5NenEVNVmW6rk97WGrm3FlZCgLajTW+NwRVERXuvY3muMEwBea4wTAF5rjBMAXmuMEYLm2TQuqXi2TYc0BxCIiDQoi7mRsDNHBsu0EP2uplkzfv8WORSJsDKGWvoahptvEz/KOnpg5BR7HKY7ZySoisrOKxo8frWDL2M+6L9U++w3cho0fHcPoVdB3fmO0Bn5W3IDx55M7MP7NJRo+RESevMMA4as3mFGdvtOPYecSz20kPiuKLlX+ivC4o1UdDcCZ3DMrqpvgasbjSj+nr+doZPE3muMEwBea4wTAF5rjBOCDqmDxz1gr8ZMd1FzhSkSkRYmdi6oQi+guI1YQ8SKW6Riy6LzWta02MQl11jXatFJLXp6DrZ6uTvUxVb190EH9tZfpBM3rRoeT97msdADBK6pGZTmffzNETfbbd7jN0al2PifHqIN6b/F5ap4ZwQwj0rJzbsOsn9OIEj+5WnNV6fcKJ/Qu8zzlNd6zY2OXL3MMnPY3muMEwBea4wTAF5rjBMAXmuME4IepgmW2zUWR2TQqWrWVgxqNIRypL6Kj9VnMWvAWXAK8Ulvo/0BcXYvLTYuIrLfQKTw3Wj2pstUNNKDc7ui2R3stNHbcTHEbbikrIlLQuS/oph0WmMEsIvLFBJ3N/3Kxq7Z5/Aadz9MjzHxuH2kDUPsU57v9Dq0HjSsj42LGFcXw++Rrhh2PbiNPf2Y8g2sZ3sd+rO8rR+cPa3wWDufaAPTlyI0hjhMcX2iOEwBfaI4TgOWqYHFGtXJYG+VpyWHNAcQiIh12UCc4bhqVpjhomIN/LWZUqalYpuoVSVVu2cvVk0RENho6a5mJ6XrXGnicbaM17fUUndisF0e1DpZ9Q9WAX5Am+3yo9dfnZ+h8fnm0obZJX+O5Vl/jRHUN7237Dd7X9BLnMprp+1xn+JDN17DKMNsNRETmVIi47OG1XOvq+3OrgfO9YejdmOwWgxLFoKV3D4Y4d/5Gc5wA+EJznAD4QnOcAPwgrXWtClcRJThy8KyISI/a5HKg7jIajasNFUbinvajUcCq8f+GXYPKj5bo3/vXG6ilUiNANabqWuyPWzWqU3HS6bhG/fWmWFH7fJNvwviLAeqv37/dUvtcvMbjdA7149F9hdffe0X37BQrRomIxFf0neY0L5k+T9XEAOeig9vkq/o5na1Tsu466q37fV2F+H4DKzpb1ZkTej5GVPbtLSV5iohc5igY/Y3mOAHwheY4AfCF5jgB8IXmOAH4oJLgyzisYy73nVptctGRqSpcxbq6ELdPYkrjf8e0ZoMJtfTVX1m1euqSMWTNMIaMUzRSLFORi9tOWftwmeo3NH6Ra4fp76+w7PaTUwwGnr3EYGARkf5hTGN9Ld2XaGDIjtHhW1/pDPG6xONEbSz3Xa+i4UNEZHYNjQnjLXxUxzcNY8gWzuX9Tby2hz3dqmovO4Pxaqyd/6UKeMC/T62oesLfaI4TAF9ojhMAX2iOEwAj8VNvpNo2LZH42aAWORxALCLSI43GmmwZjVOQ89D6vTyNUVQWgsflQN9vP0OadC1riXbMjqgvrpWUyg51DorOjet/W6JD9HWOiYaPrrB6sIjIwQnptpeoi/qH+kavHlDl6MOh2iY+RqdvxZqs0t856uP11+voGJ/uaIfvYAfnYXQbr3dyW+v367ewovNn69iq6oHRTvg6BUU0o5baZlzrZ/d9LFsCV0TzN5rjBMAXmuMEwBea4wTASPxcXJxHtdI1/GiqU4zRfaVNPqQmBc9aGof9ZKx5prWh0dQ2/Ltc7aIKsnRjvJZ+rRME2bdWGf/HRuQDY012WaKWEhF5OVmH8bMrDBh++Qb/LiISHaLW6L2gokAHWld0DlDjyNEbtU050H6y94lXdYCz3MAkyPEd3Gawqx/DETWlybfxWdm8eaX2+ewaarCHbRzvpDqpthMv7h7DZPRcbqZ6TvZ66J/zN5rjBMAXmuMEwBea4wTAF5rjBGC5SsUcVMzjVBstmuywXqZNLjn+rApXFZ2cHdTjCI0NItpAUtSYFVzVRtugCM/TomvpRjpImitlDSpt2ODrP5tjcO+rqa56++wSjR+v3uA28UvtZFXGj6+pKvSBNgzIqxMYmoYPmpdkA6+l3tHO89EeOqSv7lLL29t6/usdNDbtUoDw/qo21HzSxeu/maFxh40YIjrAPK/1c8oZ+XzvdzOduT3t4jPnbzTHCYAvNMcJgC80xwmAkfipN1oUVMxViUVEmpToabWiXSbpkWEHNVfBYoewiE6cnFLHkNJIJm3S/6CMtmkZ17rM9Q9K1FMnOTpvDwa6OvDrd6swjo7wGN1X+qatvKCAgRfk4D3C6k8ihiaL9P9h1mTVLiaYDj/SSZyX9/Ceje6Sft/Wwcv3r6Huud/Djjq3GuRcF5H1FAO9S9VRR2vZVsTB4TqwgvV6n4I6dlN9Ldyi199ojhMAX2iOEwBfaI4TgKWK81QqqBg1WZwZHUSomyf7zES034yDiK2qw4sKoVi+N9Zt3A3T6vjJxXmaNFVZpH/Lc+Eg61rP5x0Yvxqj/jo610G59SlpsiO8tv4rPf+dl6R7TlDjlFdaF0UJzne8roOVq7tY4fjqY9Rkl/f1/+7xPbzPN29jwO1PNo7VPnfbqNF6iQ7iZoakfzlgmxNzRUQK6lojqQ5Wvh5TdeYIj5sl2qeaRKh3/Y3mOAHwheY4AfCF5jgB8IXmOAH4oCpYbKOIjVY3bQoi7iXaYd1UQcRoTBgbLWNzSu8uqsUZsqMEjzNVKeJazKpWThG3etJw9jc7ykVETnIMsD0e4Dg/04HInRM8bvcIr6XzWrf5jd9gEG45QOMHGz5ERGJ2Rt/RrZ0u9zEI+mIfry3/SBstHtzGYN8/2ngB4ztNHZTbImPTZYnnPTFaVZ0VuE1JD/O1TFcu4ypqXcPIxe12mxHuw4YzEZGkwufd32iOEwBfaI4TAF9ojhOAD+omw7IoNRzWXPXKqubKQbgVd31R0csi4xL1Vm5so/YhrTQTCkw2Ej8Zq/0uww7qt3MdYHsyRm1xeYkO7MZbrZ3ap3h9nROcy/RUO1nrBZosXtfVged3MGmT9ZiIyMUnOA/zfaz89Ud3DtU+v1h/BmNuZ5sYCZmvCgyuPphi5eVnQ+yOIyLydqKv931udHQiaxbjM2glcYqgRksoyDivtMZ/R8+cv9EcJwC+0BwnAL7QHCcAvtAcJwBGSXC9ETuoOXo/TY3ofYrW52xqEZEGVRPS1aq0YWBCxpBJubitqcqwJqOFlRcdW6nm72E1+OWqV+9m2hhyOsTP6nP8Pq13+ryddzhPjXdogKhHus0vw6W6y9vamHD1MTmjP9EPQ/UJOn1/sfc1jP/z+ldqn/2Gjs5/n4NCX8u/jrdh/NuzHRi/PsOsBxGRYoqPc5zhXZpX+vtst9GQVHQXB0CUVDnrrNLP9pPZXbyWhUd1HOffjS80xwmALzTHCcCHVSqmvRqpUbU3oZZMhsM6JqWjg3J1UPGINNporrdh+DiFfP9WPUxh+LgvSnQ+H0+NlrFD1HGNc7yW1jujotg7ykS/Io1W6X2iPmrB8iZmS1/dN5zRH+P8l/ta+/3y3nMY//n6FzD+sdG+lrPenxXofP7N6I7a559OUeMcH+H1J+favJAU+OyWfXy+Bk39DC4T8MBMqNXu61IHj38+3oWxv9EcJwC+0BwnAL7QHCcAy1Uq5ipYCf72bZh+NAoqjvTv4yTC3+7sN7N+Pw8K/D08Xkajka7jZD8LDhwtavyO3K5XROSMkhPfTrQfrbxCH16Hitw2L/VcpgNKmp3jNlFLa4RyE/1Mwz2qVvWR/h8728cE0j/ZO1Db/MXG5zD+WfM1jDOjCtnzOV7LPw4/hvHfH3+k9jl5gUHFrSOqQqaLeKkK2nlM1c4MP1ozporaZnUzfP7H9CwcFrqDzpMB+gb9jeY4AfCF5jgB8IXmOAHwheY4AfhAhzUK3mZiZFizMcRwWHPVKzaGjOZGCyYyfowLHMeRFuNsVOF2PlaAMMPGkIHhTH9boIP6bKwrWqVX+B0bl3i92UDPZZTT3KV4jGoFHeUiIpPbaJjh1knj+1r0//zuSxj/xbXfqW3+Q/MVjLvUwuh5ob/z/xk+gPH/Ot6H8elzdGCLiPRekCP/DZWhNyLBZyt4LTl1wMoyHVhxrYFWlbXYqChGa2JQ4hPzutCl09kQ5m80xwmALzTHCYAvNMcJwJIOa/qAKhO3Uq2/mpTUmUX69zE7jlWbHcMZPZxREuecqsbGWnFNOKjYcDYznNzHrZ2uKh2UezbDz8ZjrTEbQ5zgxgiPm0z0PHFlMtZk01vaMX51B+dltIei5uN7WD1YRORX17+E8R+3vlHbrJET+LDE8f8do/4SEfm7o4cwPnm6CeP+M30/etSKKqN5mrf1OyJfpepmbdxno6P1107jHLcx2osltExG9NxellqXFuQc9zea4wTAF5rjBMAXmuME4IO6ySiNZrQW7VD3mEakHR+s0bhojhUwPClwm3yOv8szw6fHHWc4wXQZpsqPpn+Xv8tRO5UjXTgopYYm6QR1RFRqjVk1qWjROraQHW5rqT28g/do/S5qkf90/bHa54/bmNS5aXSceVviPPzjBAOE/9vxT9Q+r59igO3KYzzu6oF+fppn6OerU6pi3dXPxpxl8yrqrXsrugrxXvYGd4mNLjvCAeZqE0WHWkv7G81xAuALzXEC4AvNcQLgC81xAmBUKjaCikkfRikKdsthzRnVXPFKRLc+5arDlsN6MsNt5nP8XzEzsr3zJdrvMhVlCk+ptRNXvBIROSdjSDTW500nFBxLyrpO9f++skNGoi0cD2/rexbdQavLn97CisK/7D1S++xS5vy40vfs11Os7vRXp38A4+dPb6p9Vh/hPKw9xWejfaRb3grN9+wazm2+oudpeg332dzENk0/7mE2uIjIXoYtiHuRNnLltRFE8P4+iW4nvNPF4/obzXEC4AvNcQLgC81xAvBBDuuYEj+5c4yITvS02qeyw5qDf8eFdvjOZpT0WOJ4Nte/p+cLNJr134aDiHNyUl4aGm2YYxBxMtWTqZrq0HHLlpbN+ToFtd7CK57e1vP/023s4PLLFXRQ3091GamSIsp/N9MJjf/97DPc5tltGK880te//oQ02Qss/RVNdRJquY7e53yDnpUtw5ZwC4OGH25g4PQDo4ryBt18rn727YFx2KLgi5splTITkYddPLe/0RwnAL7QHCcAvtAcJwBG4ufi4jwxJVeaGo38aNxRREQnYA7Jb8Y+MxGR+QwvuS7xeucto0vlgu6dFmXNfjS8VivZb5zj9RpNTlVRGRUs2zS6nG5Sl51b5C/a1hrhTzYwQPhT6rrZMu7z0wKDlf/m8jO1zT98fR/G3Ud4z9Yf6Weh/fwMxtEA/WZ1XyfR5tdRAw92qLjQrtbie1t4ns/6WEhoJ0XflohIRpqME34tOqTR9rK3epsYg+r9jeY4AfCF5jgB8IXmOAHwheY4Afggh3VCQcWNWAvTzMioZqb1d2dUTw1jSJ2TsYAdvqVhDLG+1ALYYa0qH82NykdkqOFWr9+CFzxvceawvv7JDTrONjpmf3YdRb+IyM/bBzBeJSvMSamNLn8//gTG//PlJ2qb9DEaKTYe4b3vPEWDhIiIvMPsbmnj3BU3jBbEu+Skv4P3Y31HG4A+W8eg4bsNNFJkRtBErowfudqG2zb1KfA+iXR1rT5ZwvyN5jgB8IXmOAHwheY4ATASP/VGnPiZUIJgx/DMtixvLcGViVmjzWaGP32GF1hT95jK0GgMd7GxQo5L0lLjCgOGB+TcFRGZF3ik1PB9cvtX1mTTa1rXTbdQX929gTroZ/0Xap+d9ArGY9Kp/48SOEVE/vbkxzAePFlT21x/hF+q95icwMdYVUpERDL80hW1/R3s6bm8Qr+4NPcwifMn13WA8P02npuDJqwOQCL4nK4Z9oY+ObX7MR6nVWt7REnJov5Gc5wA+EJznAD4QnOcACzV8ZOXI1cDblp+NMFtCkMJqcrE1L2zZJ+ZiMQzuj7yaSzjM4vJn5IY37lSQcV4rVxISEQHOFuUDQqCpvxRLjAjIpJdRz/Np2sYILxPAcMiIjFpzOcFtr/8H+eox0REnj7Dwjobj/X3WX2M2k9e4rlrI/E22sLuMcP76De7/Mj4f38PE1M/u4majBMrRbSt4KzELjtWdem1BAOcq0T75zopfqdmpO89M6Db6G80xwmALzTHCYAvNMcJgC80xwnAUq11K2rTlLLDOjECMcngwIYPEZHxoqpXSxhDaqrIZUZFE1YLKaZQlYrx2qalnjohY4hqdyUinJjNxpDimjYmfLyJQbk/6mLw7FoyVvucVegE/ocRtlf69cu7ap/uM/yO6090Bd74GzR+VGM8d3IdDR8iIpN7aIg536fKZfs6KPcPb2Og9B9QtnTfqA78tiAjC002ByqIiNxqoPGj29L/8PqwAAAD5UlEQVSBFrdloD57n6lRyfiguAZjf6M5TgB8oTlOAHyhOU4AtMPaWnr0WYMceK1oceJnZaxpdvpy1auIndMiQgWQVYWrymh7mpJezKLFAZ8FO6xJY844OtigyvTFzDt4vbM1qih2TeuV/RUMlt3JULNVxk37MscKwv/7FDXa/Bk6c0VENp9QIMJzHSA8P6MuKV0UmfO7N9Q+5/uoxUf7qIN+fuel2ucPVzFQmju2nBYrap9nI2zhezFDjdYyqrWVPZy7+03tCFf7ULLoidEO+fPJHRj7G81xAuALzXEC4AvNcQLgC81xArCUw5ozrDMqCd5kC4Vo5+CMDyIiozlmLec5Xk6c6/8DymGdGNYPIqUKUJxZwFWORESmCxzW88r4H0WHsRJ6qwYet1xHw8zOuo4ev0eZw50IAwRezXV7pX+6xBTlg2/QUEAVw0VEpPcUz10en6ptIsqWiLa3YHyxr8t7Xz7A+X5wHyPxf7nxTO2zSRniL2foAP7y6pba5/k5bsNV1FY62sl9o6XbVy1iUqMx53CuDTNfDTETwt9ojhMAX2iOEwBfaI4TgKUyrDlOt5mgrmgYDmtu08RtdEVERiWKGG7JlFltj9hh3dTbMFyhloOKYzPDGsczuv7aCF6OSC+Wbe3IrEmjddfQQb3X05V+t6h1K+vFLybonBYR+edjrHLVPsC5XnumA8GjQ3TWVrneJr2Jmmy4jwHDFw/VLrK1jxWD/8uNr2B8v6m14KsCdefngx0Y/+sJaiARkck7itimWxRFRuswarvM+l1Ea/hBhc/7IQUQi4gcjVG3+RvNcQLgC81xAuALzXECsKQfDX/bchUsrghrwW10RUSGBQos7hQT50ZQMctB+tltFfFSfjRDUzIlHde6fnVtGWoyS6MlHTz31gomFd5uUecVEWmRMD2eYwXhf7nQVYcHh6gRbnxNvs9vtBYsLzhgWPvEivuojc4eku/zE50k+WfbqMl+2sKAYas61Zcj1GS/O0a/WX6og6IbQ7z5ZYeqWK/r90o3RR26EhvJrhFrNBy/metuOJzE7G80xwmALzTHCYAvNMcJgC80xwnAB7XW5Va6LNYtrCpYkzlnVOOJrMMuNoZop2SbMms5I9wKKmYzBmcxJ7E2dKQZXVxXX8tKDx3UO100QGykWKJaRM/dozEaJL460VnN3RdovFk5wGpV9ZF2Egu1J4p2tFP44hPMqB4+wLn9s7tP1T5/2n2M1xajAeKfx9SjSUR+fYIZyvkBGhw6x/odwZ1zJ/TIZXx/RORGhsabDaO6VkLl7MeUXT8uddQEB977G81xAuALzXEC4AvNcQLw/wFumh9be2ZYlgAAAABJRU5ErkJggg==\" y=\"-10.439219\"/>\n   </g>\n   <g id=\"matplotlib.axis_1\">\n    <g id=\"xtick_1\">\n     <g id=\"line2d_1\">\n      <defs>\n       <path d=\"M 0 0 \nL 0 3.5 \n\" id=\"mede11ce461\" style=\"stroke:#000000;stroke-width:0.8;\"/>\n      </defs>\n      <g>\n       <use style=\"stroke:#000000;stroke-width:0.8;\" x=\"20.5625\" xlink:href=\"#mede11ce461\" y=\"228.439219\"/>\n      </g>\n     </g>\n     <g id=\"text_1\">\n      <!-- 0 -->\n      <defs>\n       <path d=\"M 31.78125 66.40625 \nQ 24.171875 66.40625 20.328125 58.90625 \nQ 16.5 51.421875 16.5 36.375 \nQ 16.5 21.390625 20.328125 13.890625 \nQ 24.171875 6.390625 31.78125 6.390625 \nQ 39.453125 6.390625 43.28125 13.890625 \nQ 47.125 21.390625 47.125 36.375 \nQ 47.125 51.421875 43.28125 58.90625 \nQ 39.453125 66.40625 31.78125 66.40625 \nz\nM 31.78125 74.21875 \nQ 44.046875 74.21875 50.515625 64.515625 \nQ 56.984375 54.828125 56.984375 36.375 \nQ 56.984375 17.96875 50.515625 8.265625 \nQ 44.046875 -1.421875 31.78125 -1.421875 \nQ 19.53125 -1.421875 13.0625 8.265625 \nQ 6.59375 17.96875 6.59375 36.375 \nQ 6.59375 54.828125 13.0625 64.515625 \nQ 19.53125 74.21875 31.78125 74.21875 \nz\n\" id=\"DejaVuSans-30\"/>\n      </defs>\n      <g transform=\"translate(17.38125 243.037656)scale(0.1 -0.1)\">\n       <use xlink:href=\"#DejaVuSans-30\"/>\n      </g>\n     </g>\n    </g>\n    <g id=\"xtick_2\">\n     <g id=\"line2d_2\">\n      <g>\n       <use style=\"stroke:#000000;stroke-width:0.8;\" x=\"64.0505\" xlink:href=\"#mede11ce461\" y=\"228.439219\"/>\n      </g>\n     </g>\n     <g id=\"text_2\">\n      <!-- 1 -->\n      <defs>\n       <path d=\"M 12.40625 8.296875 \nL 28.515625 8.296875 \nL 28.515625 63.921875 \nL 10.984375 60.40625 \nL 10.984375 69.390625 \nL 28.421875 72.90625 \nL 38.28125 72.90625 \nL 38.28125 8.296875 \nL 54.390625 8.296875 \nL 54.390625 0 \nL 12.40625 0 \nz\n\" id=\"DejaVuSans-31\"/>\n      </defs>\n      <g transform=\"translate(60.86925 243.037656)scale(0.1 -0.1)\">\n       <use xlink:href=\"#DejaVuSans-31\"/>\n      </g>\n     </g>\n    </g>\n    <g id=\"xtick_3\">\n     <g id=\"line2d_3\">\n      <g>\n       <use style=\"stroke:#000000;stroke-width:0.8;\" x=\"107.5385\" xlink:href=\"#mede11ce461\" y=\"228.439219\"/>\n      </g>\n     </g>\n     <g id=\"text_3\">\n      <!-- 2 -->\n      <defs>\n       <path d=\"M 19.1875 8.296875 \nL 53.609375 8.296875 \nL 53.609375 0 \nL 7.328125 0 \nL 7.328125 8.296875 \nQ 12.9375 14.109375 22.625 23.890625 \nQ 32.328125 33.6875 34.8125 36.53125 \nQ 39.546875 41.84375 41.421875 45.53125 \nQ 43.3125 49.21875 43.3125 52.78125 \nQ 43.3125 58.59375 39.234375 62.25 \nQ 35.15625 65.921875 28.609375 65.921875 \nQ 23.96875 65.921875 18.8125 64.3125 \nQ 13.671875 62.703125 7.8125 59.421875 \nL 7.8125 69.390625 \nQ 13.765625 71.78125 18.9375 73 \nQ 24.125 74.21875 28.421875 74.21875 \nQ 39.75 74.21875 46.484375 68.546875 \nQ 53.21875 62.890625 53.21875 53.421875 \nQ 53.21875 48.921875 51.53125 44.890625 \nQ 49.859375 40.875 45.40625 35.40625 \nQ 44.1875 33.984375 37.640625 27.21875 \nQ 31.109375 20.453125 19.1875 8.296875 \nz\n\" id=\"DejaVuSans-32\"/>\n      </defs>\n      <g transform=\"translate(104.35725 243.037656)scale(0.1 -0.1)\">\n       <use xlink:href=\"#DejaVuSans-32\"/>\n      </g>\n     </g>\n    </g>\n    <g id=\"xtick_4\">\n     <g id=\"line2d_4\">\n      <g>\n       <use style=\"stroke:#000000;stroke-width:0.8;\" x=\"151.0265\" xlink:href=\"#mede11ce461\" y=\"228.439219\"/>\n      </g>\n     </g>\n     <g id=\"text_4\">\n      <!-- 3 -->\n      <defs>\n       <path d=\"M 40.578125 39.3125 \nQ 47.65625 37.796875 51.625 33 \nQ 55.609375 28.21875 55.609375 21.1875 \nQ 55.609375 10.40625 48.1875 4.484375 \nQ 40.765625 -1.421875 27.09375 -1.421875 \nQ 22.515625 -1.421875 17.65625 -0.515625 \nQ 12.796875 0.390625 7.625 2.203125 \nL 7.625 11.71875 \nQ 11.71875 9.328125 16.59375 8.109375 \nQ 21.484375 6.890625 26.8125 6.890625 \nQ 36.078125 6.890625 40.9375 10.546875 \nQ 45.796875 14.203125 45.796875 21.1875 \nQ 45.796875 27.640625 41.28125 31.265625 \nQ 36.765625 34.90625 28.71875 34.90625 \nL 20.21875 34.90625 \nL 20.21875 43.015625 \nL 29.109375 43.015625 \nQ 36.375 43.015625 40.234375 45.921875 \nQ 44.09375 48.828125 44.09375 54.296875 \nQ 44.09375 59.90625 40.109375 62.90625 \nQ 36.140625 65.921875 28.71875 65.921875 \nQ 24.65625 65.921875 20.015625 65.03125 \nQ 15.375 64.15625 9.8125 62.3125 \nL 9.8125 71.09375 \nQ 15.4375 72.65625 20.34375 73.4375 \nQ 25.25 74.21875 29.59375 74.21875 \nQ 40.828125 74.21875 47.359375 69.109375 \nQ 53.90625 64.015625 53.90625 55.328125 \nQ 53.90625 49.265625 50.4375 45.09375 \nQ 46.96875 40.921875 40.578125 39.3125 \nz\n\" id=\"DejaVuSans-33\"/>\n      </defs>\n      <g transform=\"translate(147.84525 243.037656)scale(0.1 -0.1)\">\n       <use xlink:href=\"#DejaVuSans-33\"/>\n      </g>\n     </g>\n    </g>\n    <g id=\"xtick_5\">\n     <g id=\"line2d_5\">\n      <g>\n       <use style=\"stroke:#000000;stroke-width:0.8;\" x=\"194.5145\" xlink:href=\"#mede11ce461\" y=\"228.439219\"/>\n      </g>\n     </g>\n     <g id=\"text_5\">\n      <!-- 4 -->\n      <defs>\n       <path d=\"M 37.796875 64.3125 \nL 12.890625 25.390625 \nL 37.796875 25.390625 \nz\nM 35.203125 72.90625 \nL 47.609375 72.90625 \nL 47.609375 25.390625 \nL 58.015625 25.390625 \nL 58.015625 17.1875 \nL 47.609375 17.1875 \nL 47.609375 0 \nL 37.796875 0 \nL 37.796875 17.1875 \nL 4.890625 17.1875 \nL 4.890625 26.703125 \nz\n\" id=\"DejaVuSans-34\"/>\n      </defs>\n      <g transform=\"translate(191.33325 243.037656)scale(0.1 -0.1)\">\n       <use xlink:href=\"#DejaVuSans-34\"/>\n      </g>\n     </g>\n    </g>\n    <g id=\"xtick_6\">\n     <g id=\"line2d_6\">\n      <g>\n       <use style=\"stroke:#000000;stroke-width:0.8;\" x=\"238.0025\" xlink:href=\"#mede11ce461\" y=\"228.439219\"/>\n      </g>\n     </g>\n     <g id=\"text_6\">\n      <!-- 5 -->\n      <defs>\n       <path d=\"M 10.796875 72.90625 \nL 49.515625 72.90625 \nL 49.515625 64.59375 \nL 19.828125 64.59375 \nL 19.828125 46.734375 \nQ 21.96875 47.46875 24.109375 47.828125 \nQ 26.265625 48.1875 28.421875 48.1875 \nQ 40.625 48.1875 47.75 41.5 \nQ 54.890625 34.8125 54.890625 23.390625 \nQ 54.890625 11.625 47.5625 5.09375 \nQ 40.234375 -1.421875 26.90625 -1.421875 \nQ 22.3125 -1.421875 17.546875 -0.640625 \nQ 12.796875 0.140625 7.71875 1.703125 \nL 7.71875 11.625 \nQ 12.109375 9.234375 16.796875 8.0625 \nQ 21.484375 6.890625 26.703125 6.890625 \nQ 35.15625 6.890625 40.078125 11.328125 \nQ 45.015625 15.765625 45.015625 23.390625 \nQ 45.015625 31 40.078125 35.4375 \nQ 35.15625 39.890625 26.703125 39.890625 \nQ 22.75 39.890625 18.8125 39.015625 \nQ 14.890625 38.140625 10.796875 36.28125 \nz\n\" id=\"DejaVuSans-35\"/>\n      </defs>\n      <g transform=\"translate(234.82125 243.037656)scale(0.1 -0.1)\">\n       <use xlink:href=\"#DejaVuSans-35\"/>\n      </g>\n     </g>\n    </g>\n   </g>\n   <g id=\"matplotlib.axis_2\">\n    <g id=\"ytick_1\">\n     <g id=\"line2d_7\">\n      <defs>\n       <path d=\"M 0 0 \nL -3.5 0 \n\" id=\"m3c7d25476e\" style=\"stroke:#000000;stroke-width:0.8;\"/>\n      </defs>\n      <g>\n       <use style=\"stroke:#000000;stroke-width:0.8;\" x=\"20.5625\" xlink:href=\"#m3c7d25476e\" y=\"228.439219\"/>\n      </g>\n     </g>\n     <g id=\"text_7\">\n      <!-- 0 -->\n      <g transform=\"translate(7.2 232.238437)scale(0.1 -0.1)\">\n       <use xlink:href=\"#DejaVuSans-30\"/>\n      </g>\n     </g>\n    </g>\n    <g id=\"ytick_2\">\n     <g id=\"line2d_8\">\n      <g>\n       <use style=\"stroke:#000000;stroke-width:0.8;\" x=\"20.5625\" xlink:href=\"#m3c7d25476e\" y=\"184.951219\"/>\n      </g>\n     </g>\n     <g id=\"text_8\">\n      <!-- 1 -->\n      <g transform=\"translate(7.2 188.750437)scale(0.1 -0.1)\">\n       <use xlink:href=\"#DejaVuSans-31\"/>\n      </g>\n     </g>\n    </g>\n    <g id=\"ytick_3\">\n     <g id=\"line2d_9\">\n      <g>\n       <use style=\"stroke:#000000;stroke-width:0.8;\" x=\"20.5625\" xlink:href=\"#m3c7d25476e\" y=\"141.463219\"/>\n      </g>\n     </g>\n     <g id=\"text_9\">\n      <!-- 2 -->\n      <g transform=\"translate(7.2 145.262437)scale(0.1 -0.1)\">\n       <use xlink:href=\"#DejaVuSans-32\"/>\n      </g>\n     </g>\n    </g>\n    <g id=\"ytick_4\">\n     <g id=\"line2d_10\">\n      <g>\n       <use style=\"stroke:#000000;stroke-width:0.8;\" x=\"20.5625\" xlink:href=\"#m3c7d25476e\" y=\"97.975219\"/>\n      </g>\n     </g>\n     <g id=\"text_10\">\n      <!-- 3 -->\n      <g transform=\"translate(7.2 101.774437)scale(0.1 -0.1)\">\n       <use xlink:href=\"#DejaVuSans-33\"/>\n      </g>\n     </g>\n    </g>\n    <g id=\"ytick_5\">\n     <g id=\"line2d_11\">\n      <g>\n       <use style=\"stroke:#000000;stroke-width:0.8;\" x=\"20.5625\" xlink:href=\"#m3c7d25476e\" y=\"54.487219\"/>\n      </g>\n     </g>\n     <g id=\"text_11\">\n      <!-- 4 -->\n      <g transform=\"translate(7.2 58.286437)scale(0.1 -0.1)\">\n       <use xlink:href=\"#DejaVuSans-34\"/>\n      </g>\n     </g>\n    </g>\n    <g id=\"ytick_6\">\n     <g id=\"line2d_12\">\n      <g>\n       <use style=\"stroke:#000000;stroke-width:0.8;\" x=\"20.5625\" xlink:href=\"#m3c7d25476e\" y=\"10.999219\"/>\n      </g>\n     </g>\n     <g id=\"text_12\">\n      <!-- 5 -->\n      <g transform=\"translate(7.2 14.798437)scale(0.1 -0.1)\">\n       <use xlink:href=\"#DejaVuSans-35\"/>\n      </g>\n     </g>\n    </g>\n   </g>\n   <g id=\"patch_3\">\n    <path d=\"M 20.5625 228.439219 \nL 20.5625 10.999219 \n\" style=\"fill:none;stroke:#000000;stroke-linecap:square;stroke-linejoin:miter;stroke-width:0.8;\"/>\n   </g>\n   <g id=\"patch_4\">\n    <path d=\"M 238.0025 228.439219 \nL 238.0025 10.999219 \n\" style=\"fill:none;stroke:#000000;stroke-linecap:square;stroke-linejoin:miter;stroke-width:0.8;\"/>\n   </g>\n   <g id=\"patch_5\">\n    <path d=\"M 20.5625 228.439219 \nL 238.0025 228.439219 \n\" style=\"fill:none;stroke:#000000;stroke-linecap:square;stroke-linejoin:miter;stroke-width:0.8;\"/>\n   </g>\n   <g id=\"patch_6\">\n    <path d=\"M 20.5625 10.999219 \nL 238.0025 10.999219 \n\" style=\"fill:none;stroke:#000000;stroke-linecap:square;stroke-linejoin:miter;stroke-width:0.8;\"/>\n   </g>\n  </g>\n  <g id=\"axes_2\">\n   <g id=\"patch_7\">\n    <path clip-path=\"url(#p927b39d95c)\" d=\"M 254.7425 228.439219 \nL 254.7425 227.589844 \nL 254.7425 11.848594 \nL 254.7425 10.999219 \nL 265.6145 10.999219 \nL 265.6145 11.848594 \nL 265.6145 227.589844 \nL 265.6145 228.439219 \nz\n\" style=\"fill:#ffffff;stroke:#ffffff;stroke-linejoin:miter;stroke-width:0.01;\"/>\n   </g>\n   <image height=\"217\" id=\"imaged50d7a58c5\" transform=\"scale(1 -1)translate(0 -217)\" width=\"11\" x=\"255\" xlink:href=\"data:image/png;base64,\niVBORw0KGgoAAAANSUhEUgAAAAsAAADZCAYAAAD2WsoCAAAABHNCSVQICAgIfAhkiAAAAUhJREFUaIHdmsENAjEMBGM7R2XUQP+NQGjB8xjJd7yt1e6sQ9Bx8c7PWc3Pjozu7Norsj/MlKuIDaAcCTwj5aUpB6LBGtSGh3AWaWg2RHQWjcNstGdNGqJn7VidmtFgf9YMeDQbKKC3SIccWI8GVAbDcJ+J8h1piHUjG5qyRsPcDUvZ5HxDdDO2boqyR6M/iy96YgPdg5qN59f9eHQ3DOjVvaJ/vsegux8N4JgHBJ69UkTOM2iAn0huKV7AEcrgORmkwWzMQJdiQIuG5zmTDHs2loWu8gdseAFFGmB4azS8gJ4NRkP0bJWymTIYLrFui8YVX0kZ0rACFlG+ktAgDZa3dcQGrBvZGNEg4sxoMBtWQFTKSwyo7YZ2rK4FaMCA1j3Ilp99FXgB27NUuS+89ov83YCUiymD4SLDSPkK8LoO80zeOUnwkOoPXoiBaF8nrs8AAAAASUVORK5CYII=\" y=\"-11\"/>\n   <g id=\"matplotlib.axis_3\"/>\n   <g id=\"matplotlib.axis_4\">\n    <g id=\"ytick_7\">\n     <g id=\"line2d_13\">\n      <defs>\n       <path d=\"M 0 0 \nL 3.5 0 \n\" id=\"m70c0089bd6\" style=\"stroke:#000000;stroke-width:0.8;\"/>\n      </defs>\n      <g>\n       <use style=\"stroke:#000000;stroke-width:0.8;\" x=\"265.6145\" xlink:href=\"#m70c0089bd6\" y=\"201.955892\"/>\n      </g>\n     </g>\n     <g id=\"text_13\">\n      <!-- −0.75 -->\n      <defs>\n       <path d=\"M 10.59375 35.5 \nL 73.1875 35.5 \nL 73.1875 27.203125 \nL 10.59375 27.203125 \nz\n\" id=\"DejaVuSans-2212\"/>\n       <path d=\"M 10.6875 12.40625 \nL 21 12.40625 \nL 21 0 \nL 10.6875 0 \nz\n\" id=\"DejaVuSans-2e\"/>\n       <path d=\"M 8.203125 72.90625 \nL 55.078125 72.90625 \nL 55.078125 68.703125 \nL 28.609375 0 \nL 18.3125 0 \nL 43.21875 64.59375 \nL 8.203125 64.59375 \nz\n\" id=\"DejaVuSans-37\"/>\n      </defs>\n      <g transform=\"translate(272.6145 205.75511)scale(0.1 -0.1)\">\n       <use xlink:href=\"#DejaVuSans-2212\"/>\n       <use x=\"83.789062\" xlink:href=\"#DejaVuSans-30\"/>\n       <use x=\"147.412109\" xlink:href=\"#DejaVuSans-2e\"/>\n       <use x=\"179.199219\" xlink:href=\"#DejaVuSans-37\"/>\n       <use x=\"242.822266\" xlink:href=\"#DejaVuSans-35\"/>\n      </g>\n     </g>\n    </g>\n    <g id=\"ytick_8\">\n     <g id=\"line2d_14\">\n      <g>\n       <use style=\"stroke:#000000;stroke-width:0.8;\" x=\"265.6145\" xlink:href=\"#m70c0089bd6\" y=\"175.434266\"/>\n      </g>\n     </g>\n     <g id=\"text_14\">\n      <!-- −0.50 -->\n      <g transform=\"translate(272.6145 179.233485)scale(0.1 -0.1)\">\n       <use xlink:href=\"#DejaVuSans-2212\"/>\n       <use x=\"83.789062\" xlink:href=\"#DejaVuSans-30\"/>\n       <use x=\"147.412109\" xlink:href=\"#DejaVuSans-2e\"/>\n       <use x=\"179.199219\" xlink:href=\"#DejaVuSans-35\"/>\n       <use x=\"242.822266\" xlink:href=\"#DejaVuSans-30\"/>\n      </g>\n     </g>\n    </g>\n    <g id=\"ytick_9\">\n     <g id=\"line2d_15\">\n      <g>\n       <use style=\"stroke:#000000;stroke-width:0.8;\" x=\"265.6145\" xlink:href=\"#m70c0089bd6\" y=\"148.912641\"/>\n      </g>\n     </g>\n     <g id=\"text_15\">\n      <!-- −0.25 -->\n      <g transform=\"translate(272.6145 152.71186)scale(0.1 -0.1)\">\n       <use xlink:href=\"#DejaVuSans-2212\"/>\n       <use x=\"83.789062\" xlink:href=\"#DejaVuSans-30\"/>\n       <use x=\"147.412109\" xlink:href=\"#DejaVuSans-2e\"/>\n       <use x=\"179.199219\" xlink:href=\"#DejaVuSans-32\"/>\n       <use x=\"242.822266\" xlink:href=\"#DejaVuSans-35\"/>\n      </g>\n     </g>\n    </g>\n    <g id=\"ytick_10\">\n     <g id=\"line2d_16\">\n      <g>\n       <use style=\"stroke:#000000;stroke-width:0.8;\" x=\"265.6145\" xlink:href=\"#m70c0089bd6\" y=\"122.391016\"/>\n      </g>\n     </g>\n     <g id=\"text_16\">\n      <!-- 0.00 -->\n      <g transform=\"translate(272.6145 126.190235)scale(0.1 -0.1)\">\n       <use xlink:href=\"#DejaVuSans-30\"/>\n       <use x=\"63.623047\" xlink:href=\"#DejaVuSans-2e\"/>\n       <use x=\"95.410156\" xlink:href=\"#DejaVuSans-30\"/>\n       <use x=\"159.033203\" xlink:href=\"#DejaVuSans-30\"/>\n      </g>\n     </g>\n    </g>\n    <g id=\"ytick_11\">\n     <g id=\"line2d_17\">\n      <g>\n       <use style=\"stroke:#000000;stroke-width:0.8;\" x=\"265.6145\" xlink:href=\"#m70c0089bd6\" y=\"95.869391\"/>\n      </g>\n     </g>\n     <g id=\"text_17\">\n      <!-- 0.25 -->\n      <g transform=\"translate(272.6145 99.66861)scale(0.1 -0.1)\">\n       <use xlink:href=\"#DejaVuSans-30\"/>\n       <use x=\"63.623047\" xlink:href=\"#DejaVuSans-2e\"/>\n       <use x=\"95.410156\" xlink:href=\"#DejaVuSans-32\"/>\n       <use x=\"159.033203\" xlink:href=\"#DejaVuSans-35\"/>\n      </g>\n     </g>\n    </g>\n    <g id=\"ytick_12\">\n     <g id=\"line2d_18\">\n      <g>\n       <use style=\"stroke:#000000;stroke-width:0.8;\" x=\"265.6145\" xlink:href=\"#m70c0089bd6\" y=\"69.347766\"/>\n      </g>\n     </g>\n     <g id=\"text_18\">\n      <!-- 0.50 -->\n      <g transform=\"translate(272.6145 73.146985)scale(0.1 -0.1)\">\n       <use xlink:href=\"#DejaVuSans-30\"/>\n       <use x=\"63.623047\" xlink:href=\"#DejaVuSans-2e\"/>\n       <use x=\"95.410156\" xlink:href=\"#DejaVuSans-35\"/>\n       <use x=\"159.033203\" xlink:href=\"#DejaVuSans-30\"/>\n      </g>\n     </g>\n    </g>\n    <g id=\"ytick_13\">\n     <g id=\"line2d_19\">\n      <g>\n       <use style=\"stroke:#000000;stroke-width:0.8;\" x=\"265.6145\" xlink:href=\"#m70c0089bd6\" y=\"42.826141\"/>\n      </g>\n     </g>\n     <g id=\"text_19\">\n      <!-- 0.75 -->\n      <g transform=\"translate(272.6145 46.62536)scale(0.1 -0.1)\">\n       <use xlink:href=\"#DejaVuSans-30\"/>\n       <use x=\"63.623047\" xlink:href=\"#DejaVuSans-2e\"/>\n       <use x=\"95.410156\" xlink:href=\"#DejaVuSans-37\"/>\n       <use x=\"159.033203\" xlink:href=\"#DejaVuSans-35\"/>\n      </g>\n     </g>\n    </g>\n    <g id=\"ytick_14\">\n     <g id=\"line2d_20\">\n      <g>\n       <use style=\"stroke:#000000;stroke-width:0.8;\" x=\"265.6145\" xlink:href=\"#m70c0089bd6\" y=\"16.304516\"/>\n      </g>\n     </g>\n     <g id=\"text_20\">\n      <!-- 1.00 -->\n      <g transform=\"translate(272.6145 20.103735)scale(0.1 -0.1)\">\n       <use xlink:href=\"#DejaVuSans-31\"/>\n       <use x=\"63.623047\" xlink:href=\"#DejaVuSans-2e\"/>\n       <use x=\"95.410156\" xlink:href=\"#DejaVuSans-30\"/>\n       <use x=\"159.033203\" xlink:href=\"#DejaVuSans-30\"/>\n      </g>\n     </g>\n    </g>\n   </g>\n   <g id=\"patch_8\">\n    <path d=\"M 254.7425 228.439219 \nL 254.7425 227.589844 \nL 254.7425 11.848594 \nL 254.7425 10.999219 \nL 265.6145 10.999219 \nL 265.6145 11.848594 \nL 265.6145 227.589844 \nL 265.6145 228.439219 \nz\n\" style=\"fill:none;stroke:#000000;stroke-linejoin:miter;stroke-width:0.8;\"/>\n   </g>\n  </g>\n </g>\n <defs>\n  <clipPath id=\"p5f9efb8a54\">\n   <rect height=\"217.44\" width=\"217.44\" x=\"20.5625\" y=\"10.999219\"/>\n  </clipPath>\n  <clipPath id=\"p927b39d95c\">\n   <rect height=\"217.44\" width=\"10.872\" x=\"254.7425\" y=\"10.999219\"/>\n  </clipPath>\n </defs>\n</svg>\n",
      "image/png": "[encoded data removed]"
     },
     "metadata": {}
    }
   ],
   "source": [
    "plt.imshow(z, origin='lower', extent=[0, 5, 0, 5], cmap='viridis')\n",
    "plt.colorbar();"
   ]
  },
  {
   "cell_type": "code",
   "execution_count": null,
   "metadata": {},
   "outputs": [],
   "source": []
  }
 ]
}