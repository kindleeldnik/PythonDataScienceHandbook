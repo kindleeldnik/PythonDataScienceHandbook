{
 "metadata": {
  "language_info": {
   "codemirror_mode": {
    "name": "ipython",
    "version": 3
   },
   "file_extension": ".py",
   "mimetype": "text/x-python",
   "name": "python",
   "nbconvert_exporter": "python",
   "pygments_lexer": "ipython3",
   "version": "3.6.6-final"
  },
  "orig_nbformat": 2,
  "kernelspec": {
   "name": "python_defaultSpec_1599208301679",
   "display_name": "Python 3.6.6 64-bit ('base': conda)"
  }
 },
 "nbformat": 4,
 "nbformat_minor": 2,
 "cells": [
  {
   "cell_type": "code",
   "execution_count": 2,
   "metadata": {},
   "outputs": [
    {
     "output_type": "execute_result",
     "data": {
      "text/plain": "(365,)"
     },
     "metadata": {},
     "execution_count": 2
    }
   ],
   "source": [
    "import numpy as np\n",
    "import pandas as pd\n",
    "rainfall = pd.read_csv(\"Seattle2014.csv\")['PRCP'].values\n",
    "inches = rainfall / 254\n",
    "inches.shape"
   ]
  },
  {
   "cell_type": "code",
   "execution_count": 3,
   "metadata": {},
   "outputs": [],
   "source": [
    "%matplotlib inline\n",
    "import matplotlib.pyplot as plt\n",
    "import seaborn; seaborn.set()"
   ]
  },
  {
   "cell_type": "code",
   "execution_count": 4,
   "metadata": {},
   "outputs": [
    {
     "output_type": "display_data",
     "data": {
      "text/plain": "<Figure size 432x288 with 1 Axes>",
      "image/svg+xml": "<?xml version=\"1.0\" encoding=\"utf-8\" standalone=\"no\"?>\n<!DOCTYPE svg PUBLIC \"-//W3C//DTD SVG 1.1//EN\"\n  \"http://www.w3.org/Graphics/SVG/1.1/DTD/svg11.dtd\">\n<!-- Created with matplotlib (http://matplotlib.org/) -->\n<svg height=\"248.518125pt\" version=\"1.1\" viewBox=\"0 0 375.2875 248.518125\" width=\"375.2875pt\" xmlns=\"http://www.w3.org/2000/svg\" xmlns:xlink=\"http://www.w3.org/1999/xlink\">\n <defs>\n  <style type=\"text/css\">\n*{stroke-linecap:butt;stroke-linejoin:round;}\n  </style>\n </defs>\n <g id=\"figure_1\">\n  <g id=\"patch_1\">\n   <path d=\"M 0 248.518125 \nL 375.2875 248.518125 \nL 375.2875 0 \nL 0 0 \nz\n\" style=\"fill:none;\"/>\n  </g>\n  <g id=\"axes_1\">\n   <g id=\"patch_2\">\n    <path d=\"M 33.2875 224.64 \nL 368.0875 224.64 \nL 368.0875 7.2 \nL 33.2875 7.2 \nz\n\" style=\"fill:#eaeaf2;\"/>\n   </g>\n   <g id=\"matplotlib.axis_1\">\n    <g id=\"xtick_1\">\n     <g id=\"line2d_1\">\n      <path clip-path=\"url(#p5233b9fee7)\" d=\"M 48.505682 224.64 \nL 48.505682 7.2 \n\" style=\"fill:none;stroke:#ffffff;stroke-linecap:round;\"/>\n     </g>\n     <g id=\"line2d_2\"/>\n     <g id=\"text_1\">\n      <!-- 0.00 -->\n      <defs>\n       <path d=\"M 31.78125 66.40625 \nQ 24.171875 66.40625 20.328125 58.90625 \nQ 16.5 51.421875 16.5 36.375 \nQ 16.5 21.390625 20.328125 13.890625 \nQ 24.171875 6.390625 31.78125 6.390625 \nQ 39.453125 6.390625 43.28125 13.890625 \nQ 47.125 21.390625 47.125 36.375 \nQ 47.125 51.421875 43.28125 58.90625 \nQ 39.453125 66.40625 31.78125 66.40625 \nz\nM 31.78125 74.21875 \nQ 44.046875 74.21875 50.515625 64.515625 \nQ 56.984375 54.828125 56.984375 36.375 \nQ 56.984375 17.96875 50.515625 8.265625 \nQ 44.046875 -1.421875 31.78125 -1.421875 \nQ 19.53125 -1.421875 13.0625 8.265625 \nQ 6.59375 17.96875 6.59375 36.375 \nQ 6.59375 54.828125 13.0625 64.515625 \nQ 19.53125 74.21875 31.78125 74.21875 \nz\n\" id=\"DejaVuSans-30\"/>\n       <path d=\"M 10.6875 12.40625 \nL 21 12.40625 \nL 21 0 \nL 10.6875 0 \nz\n\" id=\"DejaVuSans-2e\"/>\n      </defs>\n      <g style=\"fill:#262626;\" transform=\"translate(37.372869 239.238437)scale(0.1 -0.1)\">\n       <use xlink:href=\"#DejaVuSans-30\"/>\n       <use x=\"63.623047\" xlink:href=\"#DejaVuSans-2e\"/>\n       <use x=\"95.410156\" xlink:href=\"#DejaVuSans-30\"/>\n       <use x=\"159.033203\" xlink:href=\"#DejaVuSans-30\"/>\n      </g>\n     </g>\n    </g>\n    <g id=\"xtick_2\">\n     <g id=\"line2d_3\">\n      <path clip-path=\"url(#p5233b9fee7)\" d=\"M 89.891315 224.64 \nL 89.891315 7.2 \n\" style=\"fill:none;stroke:#ffffff;stroke-linecap:round;\"/>\n     </g>\n     <g id=\"line2d_4\"/>\n     <g id=\"text_2\">\n      <!-- 0.25 -->\n      <defs>\n       <path d=\"M 19.1875 8.296875 \nL 53.609375 8.296875 \nL 53.609375 0 \nL 7.328125 0 \nL 7.328125 8.296875 \nQ 12.9375 14.109375 22.625 23.890625 \nQ 32.328125 33.6875 34.8125 36.53125 \nQ 39.546875 41.84375 41.421875 45.53125 \nQ 43.3125 49.21875 43.3125 52.78125 \nQ 43.3125 58.59375 39.234375 62.25 \nQ 35.15625 65.921875 28.609375 65.921875 \nQ 23.96875 65.921875 18.8125 64.3125 \nQ 13.671875 62.703125 7.8125 59.421875 \nL 7.8125 69.390625 \nQ 13.765625 71.78125 18.9375 73 \nQ 24.125 74.21875 28.421875 74.21875 \nQ 39.75 74.21875 46.484375 68.546875 \nQ 53.21875 62.890625 53.21875 53.421875 \nQ 53.21875 48.921875 51.53125 44.890625 \nQ 49.859375 40.875 45.40625 35.40625 \nQ 44.1875 33.984375 37.640625 27.21875 \nQ 31.109375 20.453125 19.1875 8.296875 \nz\n\" id=\"DejaVuSans-32\"/>\n       <path d=\"M 10.796875 72.90625 \nL 49.515625 72.90625 \nL 49.515625 64.59375 \nL 19.828125 64.59375 \nL 19.828125 46.734375 \nQ 21.96875 47.46875 24.109375 47.828125 \nQ 26.265625 48.1875 28.421875 48.1875 \nQ 40.625 48.1875 47.75 41.5 \nQ 54.890625 34.8125 54.890625 23.390625 \nQ 54.890625 11.625 47.5625 5.09375 \nQ 40.234375 -1.421875 26.90625 -1.421875 \nQ 22.3125 -1.421875 17.546875 -0.640625 \nQ 12.796875 0.140625 7.71875 1.703125 \nL 7.71875 11.625 \nQ 12.109375 9.234375 16.796875 8.0625 \nQ 21.484375 6.890625 26.703125 6.890625 \nQ 35.15625 6.890625 40.078125 11.328125 \nQ 45.015625 15.765625 45.015625 23.390625 \nQ 45.015625 31 40.078125 35.4375 \nQ 35.15625 39.890625 26.703125 39.890625 \nQ 22.75 39.890625 18.8125 39.015625 \nQ 14.890625 38.140625 10.796875 36.28125 \nz\n\" id=\"DejaVuSans-35\"/>\n      </defs>\n      <g style=\"fill:#262626;\" transform=\"translate(78.758503 239.238437)scale(0.1 -0.1)\">\n       <use xlink:href=\"#DejaVuSans-30\"/>\n       <use x=\"63.623047\" xlink:href=\"#DejaVuSans-2e\"/>\n       <use x=\"95.410156\" xlink:href=\"#DejaVuSans-32\"/>\n       <use x=\"159.033203\" xlink:href=\"#DejaVuSans-35\"/>\n      </g>\n     </g>\n    </g>\n    <g id=\"xtick_3\">\n     <g id=\"line2d_5\">\n      <path clip-path=\"url(#p5233b9fee7)\" d=\"M 131.276949 224.64 \nL 131.276949 7.2 \n\" style=\"fill:none;stroke:#ffffff;stroke-linecap:round;\"/>\n     </g>\n     <g id=\"line2d_6\"/>\n     <g id=\"text_3\">\n      <!-- 0.50 -->\n      <g style=\"fill:#262626;\" transform=\"translate(120.144137 239.238437)scale(0.1 -0.1)\">\n       <use xlink:href=\"#DejaVuSans-30\"/>\n       <use x=\"63.623047\" xlink:href=\"#DejaVuSans-2e\"/>\n       <use x=\"95.410156\" xlink:href=\"#DejaVuSans-35\"/>\n       <use x=\"159.033203\" xlink:href=\"#DejaVuSans-30\"/>\n      </g>\n     </g>\n    </g>\n    <g id=\"xtick_4\">\n     <g id=\"line2d_7\">\n      <path clip-path=\"url(#p5233b9fee7)\" d=\"M 172.662583 224.64 \nL 172.662583 7.2 \n\" style=\"fill:none;stroke:#ffffff;stroke-linecap:round;\"/>\n     </g>\n     <g id=\"line2d_8\"/>\n     <g id=\"text_4\">\n      <!-- 0.75 -->\n      <defs>\n       <path d=\"M 8.203125 72.90625 \nL 55.078125 72.90625 \nL 55.078125 68.703125 \nL 28.609375 0 \nL 18.3125 0 \nL 43.21875 64.59375 \nL 8.203125 64.59375 \nz\n\" id=\"DejaVuSans-37\"/>\n      </defs>\n      <g style=\"fill:#262626;\" transform=\"translate(161.52977 239.238437)scale(0.1 -0.1)\">\n       <use xlink:href=\"#DejaVuSans-30\"/>\n       <use x=\"63.623047\" xlink:href=\"#DejaVuSans-2e\"/>\n       <use x=\"95.410156\" xlink:href=\"#DejaVuSans-37\"/>\n       <use x=\"159.033203\" xlink:href=\"#DejaVuSans-35\"/>\n      </g>\n     </g>\n    </g>\n    <g id=\"xtick_5\">\n     <g id=\"line2d_9\">\n      <path clip-path=\"url(#p5233b9fee7)\" d=\"M 214.048216 224.64 \nL 214.048216 7.2 \n\" style=\"fill:none;stroke:#ffffff;stroke-linecap:round;\"/>\n     </g>\n     <g id=\"line2d_10\"/>\n     <g id=\"text_5\">\n      <!-- 1.00 -->\n      <defs>\n       <path d=\"M 12.40625 8.296875 \nL 28.515625 8.296875 \nL 28.515625 63.921875 \nL 10.984375 60.40625 \nL 10.984375 69.390625 \nL 28.421875 72.90625 \nL 38.28125 72.90625 \nL 38.28125 8.296875 \nL 54.390625 8.296875 \nL 54.390625 0 \nL 12.40625 0 \nz\n\" id=\"DejaVuSans-31\"/>\n      </defs>\n      <g style=\"fill:#262626;\" transform=\"translate(202.915404 239.238437)scale(0.1 -0.1)\">\n       <use xlink:href=\"#DejaVuSans-31\"/>\n       <use x=\"63.623047\" xlink:href=\"#DejaVuSans-2e\"/>\n       <use x=\"95.410156\" xlink:href=\"#DejaVuSans-30\"/>\n       <use x=\"159.033203\" xlink:href=\"#DejaVuSans-30\"/>\n      </g>\n     </g>\n    </g>\n    <g id=\"xtick_6\">\n     <g id=\"line2d_11\">\n      <path clip-path=\"url(#p5233b9fee7)\" d=\"M 255.43385 224.64 \nL 255.43385 7.2 \n\" style=\"fill:none;stroke:#ffffff;stroke-linecap:round;\"/>\n     </g>\n     <g id=\"line2d_12\"/>\n     <g id=\"text_6\">\n      <!-- 1.25 -->\n      <g style=\"fill:#262626;\" transform=\"translate(244.301038 239.238437)scale(0.1 -0.1)\">\n       <use xlink:href=\"#DejaVuSans-31\"/>\n       <use x=\"63.623047\" xlink:href=\"#DejaVuSans-2e\"/>\n       <use x=\"95.410156\" xlink:href=\"#DejaVuSans-32\"/>\n       <use x=\"159.033203\" xlink:href=\"#DejaVuSans-35\"/>\n      </g>\n     </g>\n    </g>\n    <g id=\"xtick_7\">\n     <g id=\"line2d_13\">\n      <path clip-path=\"url(#p5233b9fee7)\" d=\"M 296.819484 224.64 \nL 296.819484 7.2 \n\" style=\"fill:none;stroke:#ffffff;stroke-linecap:round;\"/>\n     </g>\n     <g id=\"line2d_14\"/>\n     <g id=\"text_7\">\n      <!-- 1.50 -->\n      <g style=\"fill:#262626;\" transform=\"translate(285.686671 239.238437)scale(0.1 -0.1)\">\n       <use xlink:href=\"#DejaVuSans-31\"/>\n       <use x=\"63.623047\" xlink:href=\"#DejaVuSans-2e\"/>\n       <use x=\"95.410156\" xlink:href=\"#DejaVuSans-35\"/>\n       <use x=\"159.033203\" xlink:href=\"#DejaVuSans-30\"/>\n      </g>\n     </g>\n    </g>\n    <g id=\"xtick_8\">\n     <g id=\"line2d_15\">\n      <path clip-path=\"url(#p5233b9fee7)\" d=\"M 338.205117 224.64 \nL 338.205117 7.2 \n\" style=\"fill:none;stroke:#ffffff;stroke-linecap:round;\"/>\n     </g>\n     <g id=\"line2d_16\"/>\n     <g id=\"text_8\">\n      <!-- 1.75 -->\n      <g style=\"fill:#262626;\" transform=\"translate(327.072305 239.238437)scale(0.1 -0.1)\">\n       <use xlink:href=\"#DejaVuSans-31\"/>\n       <use x=\"63.623047\" xlink:href=\"#DejaVuSans-2e\"/>\n       <use x=\"95.410156\" xlink:href=\"#DejaVuSans-37\"/>\n       <use x=\"159.033203\" xlink:href=\"#DejaVuSans-35\"/>\n      </g>\n     </g>\n    </g>\n   </g>\n   <g id=\"matplotlib.axis_2\">\n    <g id=\"ytick_1\">\n     <g id=\"line2d_17\">\n      <path clip-path=\"url(#p5233b9fee7)\" d=\"M 33.2875 224.64 \nL 368.0875 224.64 \n\" style=\"fill:none;stroke:#ffffff;stroke-linecap:round;\"/>\n     </g>\n     <g id=\"line2d_18\"/>\n     <g id=\"text_9\">\n      <!-- 0 -->\n      <g style=\"fill:#262626;\" transform=\"translate(19.925 228.439219)scale(0.1 -0.1)\">\n       <use xlink:href=\"#DejaVuSans-30\"/>\n      </g>\n     </g>\n    </g>\n    <g id=\"ytick_2\">\n     <g id=\"line2d_19\">\n      <path clip-path=\"url(#p5233b9fee7)\" d=\"M 33.2875 182.377609 \nL 368.0875 182.377609 \n\" style=\"fill:none;stroke:#ffffff;stroke-linecap:round;\"/>\n     </g>\n     <g id=\"line2d_20\"/>\n     <g id=\"text_10\">\n      <!-- 50 -->\n      <g style=\"fill:#262626;\" transform=\"translate(13.5625 186.176828)scale(0.1 -0.1)\">\n       <use xlink:href=\"#DejaVuSans-35\"/>\n       <use x=\"63.623047\" xlink:href=\"#DejaVuSans-30\"/>\n      </g>\n     </g>\n    </g>\n    <g id=\"ytick_3\">\n     <g id=\"line2d_21\">\n      <path clip-path=\"url(#p5233b9fee7)\" d=\"M 33.2875 140.115219 \nL 368.0875 140.115219 \n\" style=\"fill:none;stroke:#ffffff;stroke-linecap:round;\"/>\n     </g>\n     <g id=\"line2d_22\"/>\n     <g id=\"text_11\">\n      <!-- 100 -->\n      <g style=\"fill:#262626;\" transform=\"translate(7.2 143.914437)scale(0.1 -0.1)\">\n       <use xlink:href=\"#DejaVuSans-31\"/>\n       <use x=\"63.623047\" xlink:href=\"#DejaVuSans-30\"/>\n       <use x=\"127.246094\" xlink:href=\"#DejaVuSans-30\"/>\n      </g>\n     </g>\n    </g>\n    <g id=\"ytick_4\">\n     <g id=\"line2d_23\">\n      <path clip-path=\"url(#p5233b9fee7)\" d=\"M 33.2875 97.852828 \nL 368.0875 97.852828 \n\" style=\"fill:none;stroke:#ffffff;stroke-linecap:round;\"/>\n     </g>\n     <g id=\"line2d_24\"/>\n     <g id=\"text_12\">\n      <!-- 150 -->\n      <g style=\"fill:#262626;\" transform=\"translate(7.2 101.652047)scale(0.1 -0.1)\">\n       <use xlink:href=\"#DejaVuSans-31\"/>\n       <use x=\"63.623047\" xlink:href=\"#DejaVuSans-35\"/>\n       <use x=\"127.246094\" xlink:href=\"#DejaVuSans-30\"/>\n      </g>\n     </g>\n    </g>\n    <g id=\"ytick_5\">\n     <g id=\"line2d_25\">\n      <path clip-path=\"url(#p5233b9fee7)\" d=\"M 33.2875 55.590437 \nL 368.0875 55.590437 \n\" style=\"fill:none;stroke:#ffffff;stroke-linecap:round;\"/>\n     </g>\n     <g id=\"line2d_26\"/>\n     <g id=\"text_13\">\n      <!-- 200 -->\n      <g style=\"fill:#262626;\" transform=\"translate(7.2 59.389656)scale(0.1 -0.1)\">\n       <use xlink:href=\"#DejaVuSans-32\"/>\n       <use x=\"63.623047\" xlink:href=\"#DejaVuSans-30\"/>\n       <use x=\"127.246094\" xlink:href=\"#DejaVuSans-30\"/>\n      </g>\n     </g>\n    </g>\n    <g id=\"ytick_6\">\n     <g id=\"line2d_27\">\n      <path clip-path=\"url(#p5233b9fee7)\" d=\"M 33.2875 13.328047 \nL 368.0875 13.328047 \n\" style=\"fill:none;stroke:#ffffff;stroke-linecap:round;\"/>\n     </g>\n     <g id=\"line2d_28\"/>\n     <g id=\"text_14\">\n      <!-- 250 -->\n      <g style=\"fill:#262626;\" transform=\"translate(7.2 17.127265)scale(0.1 -0.1)\">\n       <use xlink:href=\"#DejaVuSans-32\"/>\n       <use x=\"63.623047\" xlink:href=\"#DejaVuSans-35\"/>\n       <use x=\"127.246094\" xlink:href=\"#DejaVuSans-30\"/>\n      </g>\n     </g>\n    </g>\n   </g>\n   <g id=\"patch_3\">\n    <path clip-path=\"url(#p5233b9fee7)\" d=\"M 48.505682 224.64 \nL 56.114773 224.64 \nL 56.114773 17.554286 \nL 48.505682 17.554286 \nz\n\" style=\"fill:#4c72b0;\"/>\n   </g>\n   <g id=\"patch_4\">\n    <path clip-path=\"url(#p5233b9fee7)\" d=\"M 56.114773 224.64 \nL 63.723864 224.64 \nL 63.723864 212.806531 \nL 56.114773 212.806531 \nz\n\" style=\"fill:#4c72b0;\"/>\n   </g>\n   <g id=\"patch_5\">\n    <path clip-path=\"url(#p5233b9fee7)\" d=\"M 63.723864 224.64 \nL 71.332955 224.64 \nL 71.332955 213.651778 \nL 63.723864 213.651778 \nz\n\" style=\"fill:#4c72b0;\"/>\n   </g>\n   <g id=\"patch_6\">\n    <path clip-path=\"url(#p5233b9fee7)\" d=\"M 71.332955 224.64 \nL 78.942045 224.64 \nL 78.942045 210.270787 \nL 71.332955 210.270787 \nz\n\" style=\"fill:#4c72b0;\"/>\n   </g>\n   <g id=\"patch_7\">\n    <path clip-path=\"url(#p5233b9fee7)\" d=\"M 78.942045 224.64 \nL 86.551136 224.64 \nL 86.551136 217.878017 \nL 78.942045 217.878017 \nz\n\" style=\"fill:#4c72b0;\"/>\n   </g>\n   <g id=\"patch_8\">\n    <path clip-path=\"url(#p5233b9fee7)\" d=\"M 86.551136 224.64 \nL 94.160227 224.64 \nL 94.160227 219.568513 \nL 86.551136 219.568513 \nz\n\" style=\"fill:#4c72b0;\"/>\n   </g>\n   <g id=\"patch_9\">\n    <path clip-path=\"url(#p5233b9fee7)\" d=\"M 94.160227 224.64 \nL 101.769318 224.64 \nL 101.769318 220.413761 \nL 94.160227 220.413761 \nz\n\" style=\"fill:#4c72b0;\"/>\n   </g>\n   <g id=\"patch_10\">\n    <path clip-path=\"url(#p5233b9fee7)\" d=\"M 101.769318 224.64 \nL 109.378409 224.64 \nL 109.378409 219.568513 \nL 101.769318 219.568513 \nz\n\" style=\"fill:#4c72b0;\"/>\n   </g>\n   <g id=\"patch_11\">\n    <path clip-path=\"url(#p5233b9fee7)\" d=\"M 109.378409 224.64 \nL 116.9875 224.64 \nL 116.9875 221.259009 \nL 109.378409 221.259009 \nz\n\" style=\"fill:#4c72b0;\"/>\n   </g>\n   <g id=\"patch_12\">\n    <path clip-path=\"url(#p5233b9fee7)\" d=\"M 116.9875 224.64 \nL 124.596591 224.64 \nL 124.596591 222.104257 \nL 116.9875 222.104257 \nz\n\" style=\"fill:#4c72b0;\"/>\n   </g>\n   <g id=\"patch_13\">\n    <path clip-path=\"url(#p5233b9fee7)\" d=\"M 124.596591 224.64 \nL 132.205682 224.64 \nL 132.205682 218.723265 \nL 124.596591 218.723265 \nz\n\" style=\"fill:#4c72b0;\"/>\n   </g>\n   <g id=\"patch_14\">\n    <path clip-path=\"url(#p5233b9fee7)\" d=\"M 132.205682 224.64 \nL 139.814773 224.64 \nL 139.814773 219.568513 \nL 132.205682 219.568513 \nz\n\" style=\"fill:#4c72b0;\"/>\n   </g>\n   <g id=\"patch_15\">\n    <path clip-path=\"url(#p5233b9fee7)\" d=\"M 139.814773 224.64 \nL 147.423864 224.64 \nL 147.423864 222.104257 \nL 139.814773 222.104257 \nz\n\" style=\"fill:#4c72b0;\"/>\n   </g>\n   <g id=\"patch_16\">\n    <path clip-path=\"url(#p5233b9fee7)\" d=\"M 147.423864 224.64 \nL 155.032955 224.64 \nL 155.032955 222.104257 \nL 147.423864 222.104257 \nz\n\" style=\"fill:#4c72b0;\"/>\n   </g>\n   <g id=\"patch_17\">\n    <path clip-path=\"url(#p5233b9fee7)\" d=\"M 155.032955 224.64 \nL 162.642045 224.64 \nL 162.642045 222.104257 \nL 155.032955 222.104257 \nz\n\" style=\"fill:#4c72b0;\"/>\n   </g>\n   <g id=\"patch_18\">\n    <path clip-path=\"url(#p5233b9fee7)\" d=\"M 162.642045 224.64 \nL 170.251136 224.64 \nL 170.251136 221.259009 \nL 162.642045 221.259009 \nz\n\" style=\"fill:#4c72b0;\"/>\n   </g>\n   <g id=\"patch_19\">\n    <path clip-path=\"url(#p5233b9fee7)\" d=\"M 170.251136 224.64 \nL 177.860227 224.64 \nL 177.860227 221.259009 \nL 170.251136 221.259009 \nz\n\" style=\"fill:#4c72b0;\"/>\n   </g>\n   <g id=\"patch_20\">\n    <path clip-path=\"url(#p5233b9fee7)\" d=\"M 177.860227 224.64 \nL 185.469318 224.64 \nL 185.469318 222.949504 \nL 177.860227 222.949504 \nz\n\" style=\"fill:#4c72b0;\"/>\n   </g>\n   <g id=\"patch_21\">\n    <path clip-path=\"url(#p5233b9fee7)\" d=\"M 185.469318 224.64 \nL 193.078409 224.64 \nL 193.078409 221.259009 \nL 185.469318 221.259009 \nz\n\" style=\"fill:#4c72b0;\"/>\n   </g>\n   <g id=\"patch_22\">\n    <path clip-path=\"url(#p5233b9fee7)\" d=\"M 193.078409 224.64 \nL 200.6875 224.64 \nL 200.6875 224.64 \nL 193.078409 224.64 \nz\n\" style=\"fill:#4c72b0;\"/>\n   </g>\n   <g id=\"patch_23\">\n    <path clip-path=\"url(#p5233b9fee7)\" d=\"M 200.6875 224.64 \nL 208.296591 224.64 \nL 208.296591 224.64 \nL 200.6875 224.64 \nz\n\" style=\"fill:#4c72b0;\"/>\n   </g>\n   <g id=\"patch_24\">\n    <path clip-path=\"url(#p5233b9fee7)\" d=\"M 208.296591 224.64 \nL 215.905682 224.64 \nL 215.905682 223.794752 \nL 208.296591 223.794752 \nz\n\" style=\"fill:#4c72b0;\"/>\n   </g>\n   <g id=\"patch_25\">\n    <path clip-path=\"url(#p5233b9fee7)\" d=\"M 215.905682 224.64 \nL 223.514773 224.64 \nL 223.514773 223.794752 \nL 215.905682 223.794752 \nz\n\" style=\"fill:#4c72b0;\"/>\n   </g>\n   <g id=\"patch_26\">\n    <path clip-path=\"url(#p5233b9fee7)\" d=\"M 223.514773 224.64 \nL 231.123864 224.64 \nL 231.123864 223.794752 \nL 223.514773 223.794752 \nz\n\" style=\"fill:#4c72b0;\"/>\n   </g>\n   <g id=\"patch_27\">\n    <path clip-path=\"url(#p5233b9fee7)\" d=\"M 231.123864 224.64 \nL 238.732955 224.64 \nL 238.732955 224.64 \nL 231.123864 224.64 \nz\n\" style=\"fill:#4c72b0;\"/>\n   </g>\n   <g id=\"patch_28\">\n    <path clip-path=\"url(#p5233b9fee7)\" d=\"M 238.732955 224.64 \nL 246.342045 224.64 \nL 246.342045 224.64 \nL 238.732955 224.64 \nz\n\" style=\"fill:#4c72b0;\"/>\n   </g>\n   <g id=\"patch_29\">\n    <path clip-path=\"url(#p5233b9fee7)\" d=\"M 246.342045 224.64 \nL 253.951136 224.64 \nL 253.951136 224.64 \nL 246.342045 224.64 \nz\n\" style=\"fill:#4c72b0;\"/>\n   </g>\n   <g id=\"patch_30\">\n    <path clip-path=\"url(#p5233b9fee7)\" d=\"M 253.951136 224.64 \nL 261.560227 224.64 \nL 261.560227 222.949504 \nL 253.951136 222.949504 \nz\n\" style=\"fill:#4c72b0;\"/>\n   </g>\n   <g id=\"patch_31\">\n    <path clip-path=\"url(#p5233b9fee7)\" d=\"M 261.560227 224.64 \nL 269.169318 224.64 \nL 269.169318 223.794752 \nL 261.560227 223.794752 \nz\n\" style=\"fill:#4c72b0;\"/>\n   </g>\n   <g id=\"patch_32\">\n    <path clip-path=\"url(#p5233b9fee7)\" d=\"M 269.169318 224.64 \nL 276.778409 224.64 \nL 276.778409 223.794752 \nL 269.169318 223.794752 \nz\n\" style=\"fill:#4c72b0;\"/>\n   </g>\n   <g id=\"patch_33\">\n    <path clip-path=\"url(#p5233b9fee7)\" d=\"M 276.778409 224.64 \nL 284.3875 224.64 \nL 284.3875 224.64 \nL 276.778409 224.64 \nz\n\" style=\"fill:#4c72b0;\"/>\n   </g>\n   <g id=\"patch_34\">\n    <path clip-path=\"url(#p5233b9fee7)\" d=\"M 284.3875 224.64 \nL 291.996591 224.64 \nL 291.996591 224.64 \nL 284.3875 224.64 \nz\n\" style=\"fill:#4c72b0;\"/>\n   </g>\n   <g id=\"patch_35\">\n    <path clip-path=\"url(#p5233b9fee7)\" d=\"M 291.996591 224.64 \nL 299.605682 224.64 \nL 299.605682 224.64 \nL 291.996591 224.64 \nz\n\" style=\"fill:#4c72b0;\"/>\n   </g>\n   <g id=\"patch_36\">\n    <path clip-path=\"url(#p5233b9fee7)\" d=\"M 299.605682 224.64 \nL 307.214773 224.64 \nL 307.214773 224.64 \nL 299.605682 224.64 \nz\n\" style=\"fill:#4c72b0;\"/>\n   </g>\n   <g id=\"patch_37\">\n    <path clip-path=\"url(#p5233b9fee7)\" d=\"M 307.214773 224.64 \nL 314.823864 224.64 \nL 314.823864 224.64 \nL 307.214773 224.64 \nz\n\" style=\"fill:#4c72b0;\"/>\n   </g>\n   <g id=\"patch_38\">\n    <path clip-path=\"url(#p5233b9fee7)\" d=\"M 314.823864 224.64 \nL 322.432955 224.64 \nL 322.432955 224.64 \nL 314.823864 224.64 \nz\n\" style=\"fill:#4c72b0;\"/>\n   </g>\n   <g id=\"patch_39\">\n    <path clip-path=\"url(#p5233b9fee7)\" d=\"M 322.432955 224.64 \nL 330.042045 224.64 \nL 330.042045 224.64 \nL 322.432955 224.64 \nz\n\" style=\"fill:#4c72b0;\"/>\n   </g>\n   <g id=\"patch_40\">\n    <path clip-path=\"url(#p5233b9fee7)\" d=\"M 330.042045 224.64 \nL 337.651136 224.64 \nL 337.651136 224.64 \nL 330.042045 224.64 \nz\n\" style=\"fill:#4c72b0;\"/>\n   </g>\n   <g id=\"patch_41\">\n    <path clip-path=\"url(#p5233b9fee7)\" d=\"M 337.651136 224.64 \nL 345.260227 224.64 \nL 345.260227 224.64 \nL 337.651136 224.64 \nz\n\" style=\"fill:#4c72b0;\"/>\n   </g>\n   <g id=\"patch_42\">\n    <path clip-path=\"url(#p5233b9fee7)\" d=\"M 345.260227 224.64 \nL 352.869318 224.64 \nL 352.869318 223.794752 \nL 345.260227 223.794752 \nz\n\" style=\"fill:#4c72b0;\"/>\n   </g>\n   <g id=\"patch_43\">\n    <path d=\"M 33.2875 224.64 \nL 33.2875 7.2 \n\" style=\"fill:none;\"/>\n   </g>\n   <g id=\"patch_44\">\n    <path d=\"M 368.0875 224.64 \nL 368.0875 7.2 \n\" style=\"fill:none;\"/>\n   </g>\n   <g id=\"patch_45\">\n    <path d=\"M 33.2875 224.64 \nL 368.0875 224.64 \n\" style=\"fill:none;\"/>\n   </g>\n   <g id=\"patch_46\">\n    <path d=\"M 33.2875 7.2 \nL 368.0875 7.2 \n\" style=\"fill:none;\"/>\n   </g>\n  </g>\n </g>\n <defs>\n  <clipPath id=\"p5233b9fee7\">\n   <rect height=\"217.44\" width=\"334.8\" x=\"33.2875\" y=\"7.2\"/>\n  </clipPath>\n </defs>\n</svg>\n",
      "image/png": "[encoded data removed]"
     },
     "metadata": {}
    }
   ],
   "source": [
    "plt.hist(inches, 40);"
   ]
  },
  {
   "cell_type": "code",
   "execution_count": 5,
   "metadata": {},
   "outputs": [],
   "source": [
    "x = np.array([1, 2, 3, 4, 5])"
   ]
  },
  {
   "cell_type": "code",
   "execution_count": 6,
   "metadata": {},
   "outputs": [
    {
     "output_type": "execute_result",
     "data": {
      "text/plain": "array([ True,  True, False, False, False], dtype=bool)"
     },
     "metadata": {},
     "execution_count": 6
    }
   ],
   "source": [
    "x < 3"
   ]
  },
  {
   "cell_type": "code",
   "execution_count": 7,
   "metadata": {},
   "outputs": [
    {
     "output_type": "execute_result",
     "data": {
      "text/plain": "array([False, False, False,  True,  True], dtype=bool)"
     },
     "metadata": {},
     "execution_count": 7
    }
   ],
   "source": [
    "x > 3"
   ]
  },
  {
   "cell_type": "code",
   "execution_count": 8,
   "metadata": {},
   "outputs": [
    {
     "output_type": "execute_result",
     "data": {
      "text/plain": "array([ True,  True,  True, False, False], dtype=bool)"
     },
     "metadata": {},
     "execution_count": 8
    }
   ],
   "source": [
    "x <= 3"
   ]
  },
  {
   "cell_type": "code",
   "execution_count": 9,
   "metadata": {},
   "outputs": [
    {
     "output_type": "execute_result",
     "data": {
      "text/plain": "array([False, False,  True,  True,  True], dtype=bool)"
     },
     "metadata": {},
     "execution_count": 9
    }
   ],
   "source": [
    "x >= 3"
   ]
  },
  {
   "cell_type": "code",
   "execution_count": 10,
   "metadata": {},
   "outputs": [
    {
     "output_type": "execute_result",
     "data": {
      "text/plain": "array([ True,  True, False,  True,  True], dtype=bool)"
     },
     "metadata": {},
     "execution_count": 10
    }
   ],
   "source": [
    "x != 3"
   ]
  },
  {
   "cell_type": "code",
   "execution_count": 11,
   "metadata": {},
   "outputs": [
    {
     "output_type": "execute_result",
     "data": {
      "text/plain": "array([False, False,  True, False, False], dtype=bool)"
     },
     "metadata": {},
     "execution_count": 11
    }
   ],
   "source": [
    "x == 3"
   ]
  },
  {
   "cell_type": "code",
   "execution_count": 12,
   "metadata": {},
   "outputs": [
    {
     "output_type": "execute_result",
     "data": {
      "text/plain": "array([False,  True, False,  True, False], dtype=bool)"
     },
     "metadata": {},
     "execution_count": 12
    }
   ],
   "source": [
    "(2 ** x) == (x ** 2)"
   ]
  },
  {
   "cell_type": "code",
   "execution_count": 14,
   "metadata": {},
   "outputs": [
    {
     "output_type": "execute_result",
     "data": {
      "text/plain": "array([[5, 0, 3, 3],\n       [7, 9, 3, 5],\n       [2, 4, 7, 6]])"
     },
     "metadata": {},
     "execution_count": 14
    }
   ],
   "source": [
    "rng = np.random.RandomState(0)\n",
    "x = rng.randint(10, size=(3, 4))\n",
    "x"
   ]
  },
  {
   "cell_type": "code",
   "execution_count": 15,
   "metadata": {},
   "outputs": [
    {
     "output_type": "execute_result",
     "data": {
      "text/plain": "array([[ True,  True,  True,  True],\n       [False, False,  True,  True],\n       [ True,  True, False, False]], dtype=bool)"
     },
     "metadata": {},
     "execution_count": 15
    }
   ],
   "source": [
    "x < 6"
   ]
  },
  {
   "cell_type": "code",
   "execution_count": 16,
   "metadata": {
    "tags": []
   },
   "outputs": [
    {
     "output_type": "stream",
     "name": "stdout",
     "text": "[[5 0 3 3]\n [7 9 3 5]\n [2 4 7 6]]\n"
    }
   ],
   "source": [
    "print(x)"
   ]
  },
  {
   "cell_type": "code",
   "execution_count": 17,
   "metadata": {},
   "outputs": [
    {
     "output_type": "execute_result",
     "data": {
      "text/plain": "8"
     },
     "metadata": {},
     "execution_count": 17
    }
   ],
   "source": [
    "np.count_nonzero(x < 6)"
   ]
  },
  {
   "cell_type": "code",
   "execution_count": 18,
   "metadata": {},
   "outputs": [
    {
     "output_type": "execute_result",
     "data": {
      "text/plain": "8"
     },
     "metadata": {},
     "execution_count": 18
    }
   ],
   "source": [
    "np.sum(x < 6)"
   ]
  },
  {
   "cell_type": "code",
   "execution_count": 20,
   "metadata": {},
   "outputs": [
    {
     "output_type": "execute_result",
     "data": {
      "text/plain": "array([4, 2, 2])"
     },
     "metadata": {},
     "execution_count": 20
    }
   ],
   "source": [
    "np.sum(x<6, axis=1)"
   ]
  },
  {
   "cell_type": "code",
   "execution_count": 21,
   "metadata": {},
   "outputs": [
    {
     "output_type": "execute_result",
     "data": {
      "text/plain": "True"
     },
     "metadata": {},
     "execution_count": 21
    }
   ],
   "source": [
    "np.any(x > 8)"
   ]
  },
  {
   "cell_type": "code",
   "execution_count": 22,
   "metadata": {},
   "outputs": [
    {
     "output_type": "execute_result",
     "data": {
      "text/plain": "False"
     },
     "metadata": {},
     "execution_count": 22
    }
   ],
   "source": [
    "np.any(x < 0)"
   ]
  },
  {
   "cell_type": "code",
   "execution_count": 23,
   "metadata": {},
   "outputs": [
    {
     "output_type": "execute_result",
     "data": {
      "text/plain": "True"
     },
     "metadata": {},
     "execution_count": 23
    }
   ],
   "source": [
    "np.all(x < 10)"
   ]
  },
  {
   "cell_type": "code",
   "execution_count": 24,
   "metadata": {},
   "outputs": [
    {
     "output_type": "execute_result",
     "data": {
      "text/plain": "False"
     },
     "metadata": {},
     "execution_count": 24
    }
   ],
   "source": [
    "np.all(x == 6)"
   ]
  },
  {
   "cell_type": "code",
   "execution_count": 26,
   "metadata": {
    "tags": []
   },
   "outputs": [
    {
     "output_type": "stream",
     "name": "stdout",
     "text": "[[5 0 3 3]\n [7 9 3 5]\n [2 4 7 6]]\n"
    },
    {
     "output_type": "execute_result",
     "data": {
      "text/plain": "array([ True, False,  True], dtype=bool)"
     },
     "metadata": {},
     "execution_count": 26
    }
   ],
   "source": [
    "print(x)\n",
    "np.all(x < 8, axis=1)"
   ]
  },
  {
   "cell_type": "code",
   "execution_count": 27,
   "metadata": {},
   "outputs": [
    {
     "output_type": "execute_result",
     "data": {
      "text/plain": "29"
     },
     "metadata": {},
     "execution_count": 27
    }
   ],
   "source": [
    "np.sum((inches > 0.5) & (inches < 1))"
   ]
  },
  {
   "cell_type": "code",
   "execution_count": 28,
   "metadata": {},
   "outputs": [
    {
     "output_type": "execute_result",
     "data": {
      "text/plain": "29"
     },
     "metadata": {},
     "execution_count": 28
    }
   ],
   "source": [
    "np.sum(~( (inches <= 0.5) | (inches >= 1) ))"
   ]
  },
  {
   "cell_type": "code",
   "execution_count": 34,
   "metadata": {
    "tags": []
   },
   "outputs": [
    {
     "output_type": "stream",
     "name": "stdout",
     "text": "Number days without rain:            215\nNumber days with rain:               150\nDays with more than 0.5 inches:      37\nRainy days with < 0.2 iches:         75\n"
    }
   ],
   "source": [
    "print(\"Number days without rain:           \", np.sum(inches == 0))\n",
    "print(\"Number days with rain:              \", np.sum(inches != 0))\n",
    "print(\"Days with more than 0.5 inches:     \", np.sum(inches > 0.5))\n",
    "print(\"Rainy days with < 0.2 iches:        \", np.sum( (inches > 0) & (inches < 0.2) ))"
   ]
  },
  {
   "cell_type": "code",
   "execution_count": 35,
   "metadata": {},
   "outputs": [
    {
     "output_type": "execute_result",
     "data": {
      "text/plain": "array([[5, 0, 3, 3],\n       [7, 9, 3, 5],\n       [2, 4, 7, 6]])"
     },
     "metadata": {},
     "execution_count": 35
    }
   ],
   "source": [
    "x"
   ]
  },
  {
   "cell_type": "code",
   "execution_count": 36,
   "metadata": {},
   "outputs": [
    {
     "output_type": "execute_result",
     "data": {
      "text/plain": "array([[False,  True,  True,  True],\n       [False, False,  True, False],\n       [ True,  True, False, False]], dtype=bool)"
     },
     "metadata": {},
     "execution_count": 36
    }
   ],
   "source": [
    "x < 5"
   ]
  },
  {
   "cell_type": "code",
   "execution_count": 38,
   "metadata": {},
   "outputs": [
    {
     "output_type": "execute_result",
     "data": {
      "text/plain": "array([0, 3, 3, 3, 2, 4])"
     },
     "metadata": {},
     "execution_count": 38
    }
   ],
   "source": [
    "x[x < 5]"
   ]
  },
  {
   "cell_type": "code",
   "execution_count": 40,
   "metadata": {},
   "outputs": [],
   "source": [
    "rainy = (inches > 0)\n"
   ]
  },
  {
   "cell_type": "code",
   "execution_count": 43,
   "metadata": {
    "tags": []
   },
   "outputs": [
    {
     "output_type": "stream",
     "name": "stdout",
     "text": "Median precip on rainy days in 2014 (inches):         0.194881889764\nMedian precip on summer days in 2014 (inches):        0.0\nMaximun precip on summer days in 2014 (inches):       0.850393700787\nMedian precip on non-summer days in 2014 (inches):    0.200787401575\n"
    }
   ],
   "source": [
    "summer = (np.arange(365) - 172 < 90) & (np.arange(365) - 172 > 0)\n",
    "print(\"Median precip on rainy days in 2014 (inches):        \", np.median(inches[rainy]))\n",
    "print(\"Median precip on summer days in 2014 (inches):       \", np.median(inches[summer]))\n",
    "print(\"Maximun precip on summer days in 2014 (inches):      \", np.max(inches[summer]))\n",
    "print(\"Median precip on non-summer days in 2014 (inches):   \", np.median(inches[rainy & ~summer]))"
   ]
  },
  {
   "cell_type": "code",
   "execution_count": 44,
   "metadata": {},
   "outputs": [
    {
     "output_type": "execute_result",
     "data": {
      "text/plain": "(True, False)"
     },
     "metadata": {},
     "execution_count": 44
    }
   ],
   "source": [
    "bool(42), bool(0)"
   ]
  },
  {
   "cell_type": "code",
   "execution_count": 45,
   "metadata": {},
   "outputs": [
    {
     "output_type": "execute_result",
     "data": {
      "text/plain": "False"
     },
     "metadata": {},
     "execution_count": 45
    }
   ],
   "source": [
    "bool(42 and 0)"
   ]
  },
  {
   "cell_type": "code",
   "execution_count": 46,
   "metadata": {},
   "outputs": [
    {
     "output_type": "execute_result",
     "data": {
      "text/plain": "True"
     },
     "metadata": {},
     "execution_count": 46
    }
   ],
   "source": [
    "bool(42 or 0)"
   ]
  },
  {
   "cell_type": "code",
   "execution_count": 47,
   "metadata": {},
   "outputs": [
    {
     "output_type": "execute_result",
     "data": {
      "text/plain": "'0b101010'"
     },
     "metadata": {},
     "execution_count": 47
    }
   ],
   "source": [
    "bin(42)"
   ]
  },
  {
   "cell_type": "code",
   "execution_count": 48,
   "metadata": {},
   "outputs": [
    {
     "output_type": "execute_result",
     "data": {
      "text/plain": "'0b111011'"
     },
     "metadata": {},
     "execution_count": 48
    }
   ],
   "source": [
    "bin(59)"
   ]
  },
  {
   "cell_type": "code",
   "execution_count": 49,
   "metadata": {},
   "outputs": [
    {
     "output_type": "execute_result",
     "data": {
      "text/plain": "'0b101010'"
     },
     "metadata": {},
     "execution_count": 49
    }
   ],
   "source": [
    "bin(42 & 59)"
   ]
  },
  {
   "cell_type": "code",
   "execution_count": 50,
   "metadata": {},
   "outputs": [
    {
     "output_type": "execute_result",
     "data": {
      "text/plain": "'0b111011'"
     },
     "metadata": {},
     "execution_count": 50
    }
   ],
   "source": [
    "bin(42 | 59)"
   ]
  },
  {
   "cell_type": "code",
   "execution_count": 51,
   "metadata": {},
   "outputs": [
    {
     "output_type": "execute_result",
     "data": {
      "text/plain": "array([ True,  True,  True, False,  True,  True], dtype=bool)"
     },
     "metadata": {},
     "execution_count": 51
    }
   ],
   "source": [
    "A = np.array([1, 0, 1, 0, 1, 0], dtype=bool)\n",
    "B = np.array([1, 1, 1, 0, 1, 1], dtype=bool)\n",
    "A | B"
   ]
  },
  {
   "cell_type": "code",
   "execution_count": 52,
   "metadata": {},
   "outputs": [
    {
     "output_type": "error",
     "ename": "ValueError",
     "evalue": "The truth value of an array with more than one element is ambiguous. Use a.any() or a.all()",
     "traceback": [
      "\u001b[0;31m---------------------------------------------------------------------------\u001b[0m",
      "\u001b[0;31mValueError\u001b[0m                                Traceback (most recent call last)",
      "\u001b[0;32m<ipython-input-52-ea2c97d9d9ee>\u001b[0m in \u001b[0;36m<module>\u001b[0;34m()\u001b[0m\n\u001b[0;32m----> 1\u001b[0;31m \u001b[0mA\u001b[0m \u001b[0;32mor\u001b[0m \u001b[0mB\u001b[0m\u001b[0;34m\u001b[0m\u001b[0m\n\u001b[0m",
      "\u001b[0;31mValueError\u001b[0m: The truth value of an array with more than one element is ambiguous. Use a.any() or a.all()"
     ]
    }
   ],
   "source": [
    "A or B"
   ]
  },
  {
   "cell_type": "code",
   "execution_count": 53,
   "metadata": {},
   "outputs": [
    {
     "output_type": "execute_result",
     "data": {
      "text/plain": "array([False, False, False, False, False,  True,  True,  True, False, False], dtype=bool)"
     },
     "metadata": {},
     "execution_count": 53
    }
   ],
   "source": [
    "x = np.arange(10)\n",
    "(x > 4) & (x < 8)"
   ]
  },
  {
   "cell_type": "code",
   "execution_count": 54,
   "metadata": {},
   "outputs": [
    {
     "output_type": "error",
     "ename": "ValueError",
     "evalue": "The truth value of an array with more than one element is ambiguous. Use a.any() or a.all()",
     "traceback": [
      "\u001b[0;31m---------------------------------------------------------------------------\u001b[0m",
      "\u001b[0;31mValueError\u001b[0m                                Traceback (most recent call last)",
      "\u001b[0;32m<ipython-input-54-eecf1fdd5fb4>\u001b[0m in \u001b[0;36m<module>\u001b[0;34m()\u001b[0m\n\u001b[0;32m----> 1\u001b[0;31m \u001b[0;34m(\u001b[0m\u001b[0mx\u001b[0m \u001b[0;34m>\u001b[0m \u001b[0;36m4\u001b[0m\u001b[0;34m)\u001b[0m \u001b[0;32mand\u001b[0m \u001b[0;34m(\u001b[0m\u001b[0mx\u001b[0m \u001b[0;34m<\u001b[0m \u001b[0;36m8\u001b[0m\u001b[0;34m)\u001b[0m\u001b[0;34m\u001b[0m\u001b[0m\n\u001b[0m",
      "\u001b[0;31mValueError\u001b[0m: The truth value of an array with more than one element is ambiguous. Use a.any() or a.all()"
     ]
    }
   ],
   "source": [
    "(x > 4) and (x < 8)"
   ]
  },
  {
   "cell_type": "code",
   "execution_count": null,
   "metadata": {},
   "outputs": [],
   "source": []
  }
 ]
}